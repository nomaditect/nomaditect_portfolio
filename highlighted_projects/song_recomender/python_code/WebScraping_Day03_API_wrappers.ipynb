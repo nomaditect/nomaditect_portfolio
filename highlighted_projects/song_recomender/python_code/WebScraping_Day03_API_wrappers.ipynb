{
 "cells": [
  {
   "cell_type": "markdown",
   "metadata": {},
   "source": [
    "# Webscraping | Day03 | API wrappers\n"
   ]
  },
  {
   "cell_type": "code",
   "execution_count": 1,
   "metadata": {},
   "outputs": [],
   "source": [
    "import pandas as pd\n",
    "import spotipy\n",
    "from spotipy.oauth2 import SpotifyClientCredentials\n",
    "import getpass\n",
    "import pprint"
   ]
  },
  {
   "cell_type": "code",
   "execution_count": 2,
   "metadata": {},
   "outputs": [
    {
     "name": "stdout",
     "output_type": "stream",
     "text": [
      "client_id?········\n",
      "client_secret?········\n"
     ]
    }
   ],
   "source": [
    "client_id = str(getpass.getpass('client_id?'))\n",
    "client_secret = str(getpass.getpass('client_secret?'))"
   ]
  },
  {
   "cell_type": "code",
   "execution_count": 3,
   "metadata": {},
   "outputs": [],
   "source": [
    "#embedding our getpass credentials in the access key \n",
    "sp=spotipy.Spotify(auth_manager=SpotifyClientCredentials(client_id=client_id,client_secret=client_secret))"
   ]
  },
  {
   "cell_type": "code",
   "execution_count": 33,
   "metadata": {},
   "outputs": [],
   "source": [
    "playlist=sp.user_playlist_tracks('Leckleon','2WrqbQt0mpUlyEnxQBmVfs')"
   ]
  },
  {
   "cell_type": "code",
   "execution_count": 34,
   "metadata": {},
   "outputs": [
    {
     "data": {
      "text/plain": [
       "dict_keys(['album', 'artists', 'available_markets', 'disc_number', 'duration_ms', 'episode', 'explicit', 'external_ids', 'external_urls', 'href', 'id', 'is_local', 'name', 'popularity', 'preview_url', 'track', 'track_number', 'type', 'uri'])"
      ]
     },
     "execution_count": 34,
     "metadata": {},
     "output_type": "execute_result"
    }
   ],
   "source": [
    "playlist[\"items\"][3][\"track\"].keys()"
   ]
  },
  {
   "cell_type": "code",
   "execution_count": 35,
   "metadata": {},
   "outputs": [
    {
     "data": {
      "text/plain": [
       "100"
      ]
     },
     "execution_count": 35,
     "metadata": {},
     "output_type": "execute_result"
    }
   ],
   "source": [
    "len(playlist[\"items\"])"
   ]
  },
  {
   "cell_type": "code",
   "execution_count": 36,
   "metadata": {},
   "outputs": [],
   "source": [
    "#function which handles more than 100 results \n",
    "\n",
    "def get_playlist_tracks(user_id,playlist_id):\n",
    "    results=sp.user_playlist_tracks(user_id,playlist_id)\n",
    "    tracks=results[\"items\"]\n",
    "    \n",
    "    while results['next']:\n",
    "        results = sp.next(results)\n",
    "        tracks.extend(results['items'])\n",
    "    return tracks \n"
   ]
  },
  {
   "cell_type": "code",
   "execution_count": 65,
   "metadata": {},
   "outputs": [],
   "source": [
    "results=get_playlist_tracks('nomditecalicious','0SPwoPg9Cew24vbytFLRCo')"
   ]
  },
  {
   "cell_type": "code",
   "execution_count": 66,
   "metadata": {},
   "outputs": [
    {
     "data": {
      "text/plain": [
       "10"
      ]
     },
     "execution_count": 66,
     "metadata": {},
     "output_type": "execute_result"
    }
   ],
   "source": [
    "len(results)"
   ]
  },
  {
   "cell_type": "code",
   "execution_count": 67,
   "metadata": {},
   "outputs": [],
   "source": [
    "#results = [i for i in results if i]\n"
   ]
  },
  {
   "cell_type": "code",
   "execution_count": 69,
   "metadata": {},
   "outputs": [],
   "source": [
    "names=[]\n",
    "ids=[]\n",
    "artist=[]\n",
    "playlist=results\n",
    "\n",
    "for song in range(len(results)):\n",
    "    names.append(results[song]['track']['name'])\n",
    "    ids.append(results[song]['track']['id'])\n",
    "    artist.append(results[song]['track']['artists'][0]['name'])"
   ]
  },
  {
   "cell_type": "code",
   "execution_count": 72,
   "metadata": {},
   "outputs": [],
   "source": [
    "playlist_song_info=pd.DataFrame({\"names\":names,\"ids\":ids,\"artist\":artist})"
   ]
  },
  {
   "cell_type": "code",
   "execution_count": 73,
   "metadata": {},
   "outputs": [
    {
     "data": {
      "text/html": [
       "<div>\n",
       "<style scoped>\n",
       "    .dataframe tbody tr th:only-of-type {\n",
       "        vertical-align: middle;\n",
       "    }\n",
       "\n",
       "    .dataframe tbody tr th {\n",
       "        vertical-align: top;\n",
       "    }\n",
       "\n",
       "    .dataframe thead th {\n",
       "        text-align: right;\n",
       "    }\n",
       "</style>\n",
       "<table border=\"1\" class=\"dataframe\">\n",
       "  <thead>\n",
       "    <tr style=\"text-align: right;\">\n",
       "      <th></th>\n",
       "      <th>names</th>\n",
       "      <th>ids</th>\n",
       "      <th>artist</th>\n",
       "    </tr>\n",
       "  </thead>\n",
       "  <tbody>\n",
       "    <tr>\n",
       "      <th>0</th>\n",
       "      <td>Funky Kingston</td>\n",
       "      <td>0bJ4nQojefjNpeuZNkiLrX</td>\n",
       "      <td>Toots &amp; The Maytals</td>\n",
       "    </tr>\n",
       "    <tr>\n",
       "      <th>1</th>\n",
       "      <td>Hand Clapping Song</td>\n",
       "      <td>3COOd5xqfP3VUeTZtUKcvD</td>\n",
       "      <td>The Meters</td>\n",
       "    </tr>\n",
       "    <tr>\n",
       "      <th>2</th>\n",
       "      <td>Summer Days</td>\n",
       "      <td>2YCcYjoyShxR1fko25WTdc</td>\n",
       "      <td>Radio Citizen</td>\n",
       "    </tr>\n",
       "    <tr>\n",
       "      <th>3</th>\n",
       "      <td>The Revolution Will Not Be Televised</td>\n",
       "      <td>7kjg2NCn3Zx70m1DFHSSGO</td>\n",
       "      <td>Gil Scott-Heron</td>\n",
       "    </tr>\n",
       "    <tr>\n",
       "      <th>4</th>\n",
       "      <td>Whitey on the Moon</td>\n",
       "      <td>6Jnsl9pPYkX8jx0XyzzT84</td>\n",
       "      <td>Gil Scott-Heron</td>\n",
       "    </tr>\n",
       "    <tr>\n",
       "      <th>5</th>\n",
       "      <td>Masters Of War</td>\n",
       "      <td>6X30GXDokF0rjLKP0gGEvV</td>\n",
       "      <td>The Staple Singers</td>\n",
       "    </tr>\n",
       "    <tr>\n",
       "      <th>6</th>\n",
       "      <td>Funkier Than a Mosquito's Tweeter</td>\n",
       "      <td>5wBi26umb4oxXLmpJ32BWV</td>\n",
       "      <td>Nina Simone</td>\n",
       "    </tr>\n",
       "    <tr>\n",
       "      <th>7</th>\n",
       "      <td>Can You Get to That</td>\n",
       "      <td>2liDEMyPVzDDLXKUnyiznA</td>\n",
       "      <td>Funkadelic</td>\n",
       "    </tr>\n",
       "    <tr>\n",
       "      <th>8</th>\n",
       "      <td>Love Me</td>\n",
       "      <td>3VgQTiiOCA1vAajq8XHWdh</td>\n",
       "      <td>Marbert Rocel</td>\n",
       "    </tr>\n",
       "    <tr>\n",
       "      <th>9</th>\n",
       "      <td>The Dream</td>\n",
       "      <td>3mpREieq9LagvI9PX9Jljw</td>\n",
       "      <td>TrinityRoots</td>\n",
       "    </tr>\n",
       "  </tbody>\n",
       "</table>\n",
       "</div>"
      ],
      "text/plain": [
       "                                  names                     ids  \\\n",
       "0                        Funky Kingston  0bJ4nQojefjNpeuZNkiLrX   \n",
       "1                    Hand Clapping Song  3COOd5xqfP3VUeTZtUKcvD   \n",
       "2                           Summer Days  2YCcYjoyShxR1fko25WTdc   \n",
       "3  The Revolution Will Not Be Televised  7kjg2NCn3Zx70m1DFHSSGO   \n",
       "4                    Whitey on the Moon  6Jnsl9pPYkX8jx0XyzzT84   \n",
       "5                        Masters Of War  6X30GXDokF0rjLKP0gGEvV   \n",
       "6     Funkier Than a Mosquito's Tweeter  5wBi26umb4oxXLmpJ32BWV   \n",
       "7                   Can You Get to That  2liDEMyPVzDDLXKUnyiznA   \n",
       "8                               Love Me  3VgQTiiOCA1vAajq8XHWdh   \n",
       "9                             The Dream  3mpREieq9LagvI9PX9Jljw   \n",
       "\n",
       "                artist  \n",
       "0  Toots & The Maytals  \n",
       "1           The Meters  \n",
       "2        Radio Citizen  \n",
       "3      Gil Scott-Heron  \n",
       "4      Gil Scott-Heron  \n",
       "5   The Staple Singers  \n",
       "6          Nina Simone  \n",
       "7           Funkadelic  \n",
       "8        Marbert Rocel  \n",
       "9         TrinityRoots  "
      ]
     },
     "execution_count": 73,
     "metadata": {},
     "output_type": "execute_result"
    }
   ],
   "source": [
    "playlist_song_info"
   ]
  },
  {
   "cell_type": "code",
   "execution_count": 74,
   "metadata": {},
   "outputs": [
    {
     "name": "stdout",
     "output_type": "stream",
     "text": [
      "<class 'pandas.core.frame.DataFrame'>\n",
      "RangeIndex: 10 entries, 0 to 9\n",
      "Data columns (total 3 columns):\n",
      " #   Column  Non-Null Count  Dtype \n",
      "---  ------  --------------  ----- \n",
      " 0   names   10 non-null     object\n",
      " 1   ids     10 non-null     object\n",
      " 2   artist  10 non-null     object\n",
      "dtypes: object(3)\n",
      "memory usage: 368.0+ bytes\n"
     ]
    }
   ],
   "source": [
    "playlist_song_info.info()"
   ]
  },
  {
   "cell_type": "code",
   "execution_count": 75,
   "metadata": {},
   "outputs": [
    {
     "data": {
      "text/plain": [
       "[]"
      ]
     },
     "execution_count": 75,
     "metadata": {},
     "output_type": "execute_result"
    }
   ],
   "source": [
    "song_ID"
   ]
  },
  {
   "cell_type": "code",
   "execution_count": 79,
   "metadata": {},
   "outputs": [],
   "source": [
    "feats=sp.audio_features(tracks=ids[0:99])"
   ]
  },
  {
   "cell_type": "code",
   "execution_count": 80,
   "metadata": {},
   "outputs": [
    {
     "data": {
      "text/plain": [
       "dict_keys(['danceability', 'energy', 'key', 'loudness', 'mode', 'speechiness', 'acousticness', 'instrumentalness', 'liveness', 'valence', 'tempo', 'type', 'id', 'uri', 'track_href', 'analysis_url', 'duration_ms', 'time_signature'])"
      ]
     },
     "execution_count": 80,
     "metadata": {},
     "output_type": "execute_result"
    }
   ],
   "source": [
    "feats[0].keys()"
   ]
  },
  {
   "cell_type": "code",
   "execution_count": 84,
   "metadata": {},
   "outputs": [],
   "source": [
    "audio_feat_df=pd.DataFrame(sp.audio_features(tracks=ids[0:99]))"
   ]
  },
  {
   "cell_type": "code",
   "execution_count": 87,
   "metadata": {},
   "outputs": [],
   "source": [
    "from tqdm.notebook import tqdm"
   ]
  },
  {
   "cell_type": "code",
   "execution_count": 88,
   "metadata": {},
   "outputs": [
    {
     "data": {
      "application/vnd.jupyter.widget-view+json": {
       "model_id": "80e981a2c1df424abcdacbef9fd9c741",
       "version_major": 2,
       "version_minor": 0
      },
      "text/plain": [
       "  0%|          | 0/10 [00:00<?, ?it/s]"
      ]
     },
     "metadata": {},
     "output_type": "display_data"
    }
   ],
   "source": [
    "audio_features=[]\n",
    "\n",
    "for ids in tqdm(range(len(playlist_song_info))):\n",
    "    audio_features.extend(sp.audio_features(tracks=playlist_song_info['ids'][ids]))\n"
   ]
  },
  {
   "cell_type": "code",
   "execution_count": 89,
   "metadata": {},
   "outputs": [
    {
     "data": {
      "text/html": [
       "<div>\n",
       "<style scoped>\n",
       "    .dataframe tbody tr th:only-of-type {\n",
       "        vertical-align: middle;\n",
       "    }\n",
       "\n",
       "    .dataframe tbody tr th {\n",
       "        vertical-align: top;\n",
       "    }\n",
       "\n",
       "    .dataframe thead th {\n",
       "        text-align: right;\n",
       "    }\n",
       "</style>\n",
       "<table border=\"1\" class=\"dataframe\">\n",
       "  <thead>\n",
       "    <tr style=\"text-align: right;\">\n",
       "      <th></th>\n",
       "      <th>danceability</th>\n",
       "      <th>energy</th>\n",
       "      <th>key</th>\n",
       "      <th>loudness</th>\n",
       "      <th>mode</th>\n",
       "      <th>speechiness</th>\n",
       "      <th>acousticness</th>\n",
       "      <th>instrumentalness</th>\n",
       "      <th>liveness</th>\n",
       "      <th>valence</th>\n",
       "      <th>tempo</th>\n",
       "      <th>type</th>\n",
       "      <th>id</th>\n",
       "      <th>uri</th>\n",
       "      <th>track_href</th>\n",
       "      <th>analysis_url</th>\n",
       "      <th>duration_ms</th>\n",
       "      <th>time_signature</th>\n",
       "    </tr>\n",
       "  </thead>\n",
       "  <tbody>\n",
       "    <tr>\n",
       "      <th>0</th>\n",
       "      <td>0.768</td>\n",
       "      <td>0.500</td>\n",
       "      <td>1</td>\n",
       "      <td>-9.455</td>\n",
       "      <td>0</td>\n",
       "      <td>0.0554</td>\n",
       "      <td>0.239</td>\n",
       "      <td>0.002020</td>\n",
       "      <td>0.0344</td>\n",
       "      <td>0.960</td>\n",
       "      <td>99.780</td>\n",
       "      <td>audio_features</td>\n",
       "      <td>0bJ4nQojefjNpeuZNkiLrX</td>\n",
       "      <td>spotify:track:0bJ4nQojefjNpeuZNkiLrX</td>\n",
       "      <td>https://api.spotify.com/v1/tracks/0bJ4nQojefjN...</td>\n",
       "      <td>https://api.spotify.com/v1/audio-analysis/0bJ4...</td>\n",
       "      <td>290200</td>\n",
       "      <td>4</td>\n",
       "    </tr>\n",
       "    <tr>\n",
       "      <th>1</th>\n",
       "      <td>0.805</td>\n",
       "      <td>0.518</td>\n",
       "      <td>9</td>\n",
       "      <td>-12.802</td>\n",
       "      <td>1</td>\n",
       "      <td>0.0804</td>\n",
       "      <td>0.487</td>\n",
       "      <td>0.853000</td>\n",
       "      <td>0.1020</td>\n",
       "      <td>0.631</td>\n",
       "      <td>90.520</td>\n",
       "      <td>audio_features</td>\n",
       "      <td>3COOd5xqfP3VUeTZtUKcvD</td>\n",
       "      <td>spotify:track:3COOd5xqfP3VUeTZtUKcvD</td>\n",
       "      <td>https://api.spotify.com/v1/tracks/3COOd5xqfP3V...</td>\n",
       "      <td>https://api.spotify.com/v1/audio-analysis/3COO...</td>\n",
       "      <td>176627</td>\n",
       "      <td>4</td>\n",
       "    </tr>\n",
       "    <tr>\n",
       "      <th>2</th>\n",
       "      <td>0.836</td>\n",
       "      <td>0.401</td>\n",
       "      <td>9</td>\n",
       "      <td>-10.949</td>\n",
       "      <td>0</td>\n",
       "      <td>0.1480</td>\n",
       "      <td>0.489</td>\n",
       "      <td>0.001260</td>\n",
       "      <td>0.2370</td>\n",
       "      <td>0.477</td>\n",
       "      <td>140.008</td>\n",
       "      <td>audio_features</td>\n",
       "      <td>2YCcYjoyShxR1fko25WTdc</td>\n",
       "      <td>spotify:track:2YCcYjoyShxR1fko25WTdc</td>\n",
       "      <td>https://api.spotify.com/v1/tracks/2YCcYjoyShxR...</td>\n",
       "      <td>https://api.spotify.com/v1/audio-analysis/2YCc...</td>\n",
       "      <td>276453</td>\n",
       "      <td>4</td>\n",
       "    </tr>\n",
       "    <tr>\n",
       "      <th>3</th>\n",
       "      <td>0.558</td>\n",
       "      <td>0.677</td>\n",
       "      <td>11</td>\n",
       "      <td>-12.380</td>\n",
       "      <td>0</td>\n",
       "      <td>0.2070</td>\n",
       "      <td>0.535</td>\n",
       "      <td>0.000000</td>\n",
       "      <td>0.1010</td>\n",
       "      <td>0.960</td>\n",
       "      <td>180.685</td>\n",
       "      <td>audio_features</td>\n",
       "      <td>7kjg2NCn3Zx70m1DFHSSGO</td>\n",
       "      <td>spotify:track:7kjg2NCn3Zx70m1DFHSSGO</td>\n",
       "      <td>https://api.spotify.com/v1/tracks/7kjg2NCn3Zx7...</td>\n",
       "      <td>https://api.spotify.com/v1/audio-analysis/7kjg...</td>\n",
       "      <td>185879</td>\n",
       "      <td>4</td>\n",
       "    </tr>\n",
       "    <tr>\n",
       "      <th>4</th>\n",
       "      <td>0.644</td>\n",
       "      <td>0.555</td>\n",
       "      <td>1</td>\n",
       "      <td>-11.496</td>\n",
       "      <td>1</td>\n",
       "      <td>0.3300</td>\n",
       "      <td>0.831</td>\n",
       "      <td>0.000004</td>\n",
       "      <td>0.7250</td>\n",
       "      <td>0.691</td>\n",
       "      <td>104.716</td>\n",
       "      <td>audio_features</td>\n",
       "      <td>6Jnsl9pPYkX8jx0XyzzT84</td>\n",
       "      <td>spotify:track:6Jnsl9pPYkX8jx0XyzzT84</td>\n",
       "      <td>https://api.spotify.com/v1/tracks/6Jnsl9pPYkX8...</td>\n",
       "      <td>https://api.spotify.com/v1/audio-analysis/6Jns...</td>\n",
       "      <td>119531</td>\n",
       "      <td>4</td>\n",
       "    </tr>\n",
       "    <tr>\n",
       "      <th>5</th>\n",
       "      <td>0.392</td>\n",
       "      <td>0.372</td>\n",
       "      <td>8</td>\n",
       "      <td>-16.575</td>\n",
       "      <td>1</td>\n",
       "      <td>0.0361</td>\n",
       "      <td>0.881</td>\n",
       "      <td>0.064800</td>\n",
       "      <td>0.1050</td>\n",
       "      <td>0.317</td>\n",
       "      <td>131.673</td>\n",
       "      <td>audio_features</td>\n",
       "      <td>6X30GXDokF0rjLKP0gGEvV</td>\n",
       "      <td>spotify:track:6X30GXDokF0rjLKP0gGEvV</td>\n",
       "      <td>https://api.spotify.com/v1/tracks/6X30GXDokF0r...</td>\n",
       "      <td>https://api.spotify.com/v1/audio-analysis/6X30...</td>\n",
       "      <td>275720</td>\n",
       "      <td>3</td>\n",
       "    </tr>\n",
       "    <tr>\n",
       "      <th>6</th>\n",
       "      <td>0.530</td>\n",
       "      <td>0.545</td>\n",
       "      <td>8</td>\n",
       "      <td>-15.729</td>\n",
       "      <td>0</td>\n",
       "      <td>0.0535</td>\n",
       "      <td>0.403</td>\n",
       "      <td>0.007690</td>\n",
       "      <td>0.6990</td>\n",
       "      <td>0.783</td>\n",
       "      <td>138.678</td>\n",
       "      <td>audio_features</td>\n",
       "      <td>5wBi26umb4oxXLmpJ32BWV</td>\n",
       "      <td>spotify:track:5wBi26umb4oxXLmpJ32BWV</td>\n",
       "      <td>https://api.spotify.com/v1/tracks/5wBi26umb4ox...</td>\n",
       "      <td>https://api.spotify.com/v1/audio-analysis/5wBi...</td>\n",
       "      <td>320427</td>\n",
       "      <td>4</td>\n",
       "    </tr>\n",
       "    <tr>\n",
       "      <th>7</th>\n",
       "      <td>0.689</td>\n",
       "      <td>0.830</td>\n",
       "      <td>8</td>\n",
       "      <td>-8.774</td>\n",
       "      <td>1</td>\n",
       "      <td>0.0954</td>\n",
       "      <td>0.539</td>\n",
       "      <td>0.000000</td>\n",
       "      <td>0.0882</td>\n",
       "      <td>0.815</td>\n",
       "      <td>140.732</td>\n",
       "      <td>audio_features</td>\n",
       "      <td>2liDEMyPVzDDLXKUnyiznA</td>\n",
       "      <td>spotify:track:2liDEMyPVzDDLXKUnyiznA</td>\n",
       "      <td>https://api.spotify.com/v1/tracks/2liDEMyPVzDD...</td>\n",
       "      <td>https://api.spotify.com/v1/audio-analysis/2liD...</td>\n",
       "      <td>171560</td>\n",
       "      <td>4</td>\n",
       "    </tr>\n",
       "    <tr>\n",
       "      <th>8</th>\n",
       "      <td>0.749</td>\n",
       "      <td>0.327</td>\n",
       "      <td>3</td>\n",
       "      <td>-11.141</td>\n",
       "      <td>1</td>\n",
       "      <td>0.0313</td>\n",
       "      <td>0.937</td>\n",
       "      <td>0.204000</td>\n",
       "      <td>0.1100</td>\n",
       "      <td>0.394</td>\n",
       "      <td>114.844</td>\n",
       "      <td>audio_features</td>\n",
       "      <td>3VgQTiiOCA1vAajq8XHWdh</td>\n",
       "      <td>spotify:track:3VgQTiiOCA1vAajq8XHWdh</td>\n",
       "      <td>https://api.spotify.com/v1/tracks/3VgQTiiOCA1v...</td>\n",
       "      <td>https://api.spotify.com/v1/audio-analysis/3VgQ...</td>\n",
       "      <td>326973</td>\n",
       "      <td>4</td>\n",
       "    </tr>\n",
       "    <tr>\n",
       "      <th>9</th>\n",
       "      <td>0.680</td>\n",
       "      <td>0.439</td>\n",
       "      <td>4</td>\n",
       "      <td>-8.741</td>\n",
       "      <td>0</td>\n",
       "      <td>0.3190</td>\n",
       "      <td>0.044</td>\n",
       "      <td>0.513000</td>\n",
       "      <td>0.1030</td>\n",
       "      <td>0.532</td>\n",
       "      <td>168.946</td>\n",
       "      <td>audio_features</td>\n",
       "      <td>3mpREieq9LagvI9PX9Jljw</td>\n",
       "      <td>spotify:track:3mpREieq9LagvI9PX9Jljw</td>\n",
       "      <td>https://api.spotify.com/v1/tracks/3mpREieq9Lag...</td>\n",
       "      <td>https://api.spotify.com/v1/audio-analysis/3mpR...</td>\n",
       "      <td>538333</td>\n",
       "      <td>4</td>\n",
       "    </tr>\n",
       "  </tbody>\n",
       "</table>\n",
       "</div>"
      ],
      "text/plain": [
       "   danceability  energy  key  loudness  mode  speechiness  acousticness  \\\n",
       "0         0.768   0.500    1    -9.455     0       0.0554         0.239   \n",
       "1         0.805   0.518    9   -12.802     1       0.0804         0.487   \n",
       "2         0.836   0.401    9   -10.949     0       0.1480         0.489   \n",
       "3         0.558   0.677   11   -12.380     0       0.2070         0.535   \n",
       "4         0.644   0.555    1   -11.496     1       0.3300         0.831   \n",
       "5         0.392   0.372    8   -16.575     1       0.0361         0.881   \n",
       "6         0.530   0.545    8   -15.729     0       0.0535         0.403   \n",
       "7         0.689   0.830    8    -8.774     1       0.0954         0.539   \n",
       "8         0.749   0.327    3   -11.141     1       0.0313         0.937   \n",
       "9         0.680   0.439    4    -8.741     0       0.3190         0.044   \n",
       "\n",
       "   instrumentalness  liveness  valence    tempo            type  \\\n",
       "0          0.002020    0.0344    0.960   99.780  audio_features   \n",
       "1          0.853000    0.1020    0.631   90.520  audio_features   \n",
       "2          0.001260    0.2370    0.477  140.008  audio_features   \n",
       "3          0.000000    0.1010    0.960  180.685  audio_features   \n",
       "4          0.000004    0.7250    0.691  104.716  audio_features   \n",
       "5          0.064800    0.1050    0.317  131.673  audio_features   \n",
       "6          0.007690    0.6990    0.783  138.678  audio_features   \n",
       "7          0.000000    0.0882    0.815  140.732  audio_features   \n",
       "8          0.204000    0.1100    0.394  114.844  audio_features   \n",
       "9          0.513000    0.1030    0.532  168.946  audio_features   \n",
       "\n",
       "                       id                                   uri  \\\n",
       "0  0bJ4nQojefjNpeuZNkiLrX  spotify:track:0bJ4nQojefjNpeuZNkiLrX   \n",
       "1  3COOd5xqfP3VUeTZtUKcvD  spotify:track:3COOd5xqfP3VUeTZtUKcvD   \n",
       "2  2YCcYjoyShxR1fko25WTdc  spotify:track:2YCcYjoyShxR1fko25WTdc   \n",
       "3  7kjg2NCn3Zx70m1DFHSSGO  spotify:track:7kjg2NCn3Zx70m1DFHSSGO   \n",
       "4  6Jnsl9pPYkX8jx0XyzzT84  spotify:track:6Jnsl9pPYkX8jx0XyzzT84   \n",
       "5  6X30GXDokF0rjLKP0gGEvV  spotify:track:6X30GXDokF0rjLKP0gGEvV   \n",
       "6  5wBi26umb4oxXLmpJ32BWV  spotify:track:5wBi26umb4oxXLmpJ32BWV   \n",
       "7  2liDEMyPVzDDLXKUnyiznA  spotify:track:2liDEMyPVzDDLXKUnyiznA   \n",
       "8  3VgQTiiOCA1vAajq8XHWdh  spotify:track:3VgQTiiOCA1vAajq8XHWdh   \n",
       "9  3mpREieq9LagvI9PX9Jljw  spotify:track:3mpREieq9LagvI9PX9Jljw   \n",
       "\n",
       "                                          track_href  \\\n",
       "0  https://api.spotify.com/v1/tracks/0bJ4nQojefjN...   \n",
       "1  https://api.spotify.com/v1/tracks/3COOd5xqfP3V...   \n",
       "2  https://api.spotify.com/v1/tracks/2YCcYjoyShxR...   \n",
       "3  https://api.spotify.com/v1/tracks/7kjg2NCn3Zx7...   \n",
       "4  https://api.spotify.com/v1/tracks/6Jnsl9pPYkX8...   \n",
       "5  https://api.spotify.com/v1/tracks/6X30GXDokF0r...   \n",
       "6  https://api.spotify.com/v1/tracks/5wBi26umb4ox...   \n",
       "7  https://api.spotify.com/v1/tracks/2liDEMyPVzDD...   \n",
       "8  https://api.spotify.com/v1/tracks/3VgQTiiOCA1v...   \n",
       "9  https://api.spotify.com/v1/tracks/3mpREieq9Lag...   \n",
       "\n",
       "                                        analysis_url  duration_ms  \\\n",
       "0  https://api.spotify.com/v1/audio-analysis/0bJ4...       290200   \n",
       "1  https://api.spotify.com/v1/audio-analysis/3COO...       176627   \n",
       "2  https://api.spotify.com/v1/audio-analysis/2YCc...       276453   \n",
       "3  https://api.spotify.com/v1/audio-analysis/7kjg...       185879   \n",
       "4  https://api.spotify.com/v1/audio-analysis/6Jns...       119531   \n",
       "5  https://api.spotify.com/v1/audio-analysis/6X30...       275720   \n",
       "6  https://api.spotify.com/v1/audio-analysis/5wBi...       320427   \n",
       "7  https://api.spotify.com/v1/audio-analysis/2liD...       171560   \n",
       "8  https://api.spotify.com/v1/audio-analysis/3VgQ...       326973   \n",
       "9  https://api.spotify.com/v1/audio-analysis/3mpR...       538333   \n",
       "\n",
       "   time_signature  \n",
       "0               4  \n",
       "1               4  \n",
       "2               4  \n",
       "3               4  \n",
       "4               4  \n",
       "5               3  \n",
       "6               4  \n",
       "7               4  \n",
       "8               4  \n",
       "9               4  "
      ]
     },
     "execution_count": 89,
     "metadata": {},
     "output_type": "execute_result"
    }
   ],
   "source": [
    "audio_feat_df"
   ]
  },
  {
   "cell_type": "code",
   "execution_count": null,
   "metadata": {},
   "outputs": [],
   "source": [
    "#df.to_csv"
   ]
  }
 ],
 "metadata": {
  "hide_input": false,
  "kernelspec": {
   "display_name": "Python 3 (ipykernel)",
   "language": "python",
   "name": "python3"
  },
  "language_info": {
   "codemirror_mode": {
    "name": "ipython",
    "version": 3
   },
   "file_extension": ".py",
   "mimetype": "text/x-python",
   "name": "python",
   "nbconvert_exporter": "python",
   "pygments_lexer": "ipython3",
   "version": "3.9.7"
  },
  "toc": {
   "base_numbering": 1,
   "nav_menu": {},
   "number_sections": true,
   "sideBar": true,
   "skip_h1_title": true,
   "title_cell": "Table of Contents",
   "title_sidebar": "Contents",
   "toc_cell": false,
   "toc_position": {
    "height": "551.2px",
    "left": "21px",
    "top": "-0.263px",
    "width": "165px"
   },
   "toc_section_display": true,
   "toc_window_display": true
  },
  "varInspector": {
   "cols": {
    "lenName": 16,
    "lenType": 16,
    "lenVar": 40
   },
   "kernels_config": {
    "python": {
     "delete_cmd_postfix": "",
     "delete_cmd_prefix": "del ",
     "library": "var_list.py",
     "varRefreshCmd": "print(var_dic_list())"
    },
    "r": {
     "delete_cmd_postfix": ") ",
     "delete_cmd_prefix": "rm(",
     "library": "var_list.r",
     "varRefreshCmd": "cat(var_dic_list()) "
    }
   },
   "types_to_exclude": [
    "module",
    "function",
    "builtin_function_or_method",
    "instance",
    "_Feature"
   ],
   "window_display": false
  }
 },
 "nbformat": 4,
 "nbformat_minor": 4
}
