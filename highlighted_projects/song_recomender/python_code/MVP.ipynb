{
 "cells": [
  {
   "cell_type": "markdown",
   "metadata": {},
   "source": [
    "# Webscraping | Lab02 | MVP"
   ]
  },
  {
   "cell_type": "code",
   "execution_count": 1,
   "metadata": {},
   "outputs": [],
   "source": [
    "import pandas as pd\n",
    "import random"
   ]
  },
  {
   "cell_type": "code",
   "execution_count": 2,
   "metadata": {},
   "outputs": [],
   "source": [
    "top_200 = pd.read_csv(\"/Users/AFROARC/Documents/GitHub/nomaditect_portfolio/highlighted_projects/song_recomender/python_code/top_hot_200.csv\")"
   ]
  },
  {
   "cell_type": "code",
   "execution_count": 3,
   "metadata": {},
   "outputs": [
    {
     "data": {
      "text/html": [
       "<div>\n",
       "<style scoped>\n",
       "    .dataframe tbody tr th:only-of-type {\n",
       "        vertical-align: middle;\n",
       "    }\n",
       "\n",
       "    .dataframe tbody tr th {\n",
       "        vertical-align: top;\n",
       "    }\n",
       "\n",
       "    .dataframe thead th {\n",
       "        text-align: right;\n",
       "    }\n",
       "</style>\n",
       "<table border=\"1\" class=\"dataframe\">\n",
       "  <thead>\n",
       "    <tr style=\"text-align: right;\">\n",
       "      <th></th>\n",
       "      <th>song_name</th>\n",
       "      <th>artist</th>\n",
       "      <th>weeks_on_chart</th>\n",
       "      <th>peak_position</th>\n",
       "      <th>last_week</th>\n",
       "    </tr>\n",
       "  </thead>\n",
       "  <tbody>\n",
       "    <tr>\n",
       "      <th>0</th>\n",
       "      <td>30</td>\n",
       "      <td>adele</td>\n",
       "      <td>1</td>\n",
       "      <td>1</td>\n",
       "      <td>-</td>\n",
       "    </tr>\n",
       "    <tr>\n",
       "      <th>1</th>\n",
       "      <td>red (taylor's version)</td>\n",
       "      <td>taylor swift</td>\n",
       "      <td>2</td>\n",
       "      <td>1</td>\n",
       "      <td>1</td>\n",
       "    </tr>\n",
       "    <tr>\n",
       "      <th>2</th>\n",
       "      <td>certified lover boy</td>\n",
       "      <td>drake</td>\n",
       "      <td>12</td>\n",
       "      <td>1</td>\n",
       "      <td>1</td>\n",
       "    </tr>\n",
       "    <tr>\n",
       "      <th>3</th>\n",
       "      <td>an evening with silk sonic</td>\n",
       "      <td>silk sonic (bruno mars &amp; anderson .paak)</td>\n",
       "      <td>2</td>\n",
       "      <td>2</td>\n",
       "      <td>1</td>\n",
       "    </tr>\n",
       "    <tr>\n",
       "      <th>4</th>\n",
       "      <td>dangerous: the double album</td>\n",
       "      <td>morgan wallen</td>\n",
       "      <td>46</td>\n",
       "      <td>1</td>\n",
       "      <td>5</td>\n",
       "    </tr>\n",
       "    <tr>\n",
       "      <th>...</th>\n",
       "      <td>...</td>\n",
       "      <td>...</td>\n",
       "      <td>...</td>\n",
       "      <td>...</td>\n",
       "      <td>...</td>\n",
       "    </tr>\n",
       "    <tr>\n",
       "      <th>195</th>\n",
       "      <td>jose</td>\n",
       "      <td>j balvin</td>\n",
       "      <td>10</td>\n",
       "      <td>178</td>\n",
       "      <td>1</td>\n",
       "    </tr>\n",
       "    <tr>\n",
       "      <th>196</th>\n",
       "      <td>blonde</td>\n",
       "      <td>frank ocean</td>\n",
       "      <td>255</td>\n",
       "      <td>2</td>\n",
       "      <td>100</td>\n",
       "    </tr>\n",
       "    <tr>\n",
       "      <th>197</th>\n",
       "      <td>ready to die</td>\n",
       "      <td>the notorious b.i.g.</td>\n",
       "      <td>64</td>\n",
       "      <td>86</td>\n",
       "      <td>2</td>\n",
       "    </tr>\n",
       "    <tr>\n",
       "      <th>198</th>\n",
       "      <td>sounds of summer: the very best of the beach boys</td>\n",
       "      <td>the beach boys</td>\n",
       "      <td>274</td>\n",
       "      <td>2</td>\n",
       "      <td>116</td>\n",
       "    </tr>\n",
       "    <tr>\n",
       "      <th>199</th>\n",
       "      <td>17</td>\n",
       "      <td>xxxtentacion</td>\n",
       "      <td>209</td>\n",
       "      <td>437</td>\n",
       "      <td>2</td>\n",
       "    </tr>\n",
       "  </tbody>\n",
       "</table>\n",
       "<p>200 rows × 5 columns</p>\n",
       "</div>"
      ],
      "text/plain": [
       "                                             song_name  \\\n",
       "0                                                   30   \n",
       "1                               red (taylor's version)   \n",
       "2                                  certified lover boy   \n",
       "3                           an evening with silk sonic   \n",
       "4                          dangerous: the double album   \n",
       "..                                                 ...   \n",
       "195                                               jose   \n",
       "196                                             blonde   \n",
       "197                                       ready to die   \n",
       "198  sounds of summer: the very best of the beach boys   \n",
       "199                                                 17   \n",
       "\n",
       "                                       artist  weeks_on_chart  peak_position  \\\n",
       "0                                       adele               1              1   \n",
       "1                                taylor swift               2              1   \n",
       "2                                       drake              12              1   \n",
       "3    silk sonic (bruno mars & anderson .paak)               2              2   \n",
       "4                               morgan wallen              46              1   \n",
       "..                                        ...             ...            ...   \n",
       "195                                  j balvin              10            178   \n",
       "196                               frank ocean             255              2   \n",
       "197                      the notorious b.i.g.              64             86   \n",
       "198                            the beach boys             274              2   \n",
       "199                              xxxtentacion             209            437   \n",
       "\n",
       "    last_week  \n",
       "0           -  \n",
       "1           1  \n",
       "2           1  \n",
       "3           1  \n",
       "4           5  \n",
       "..        ...  \n",
       "195         1  \n",
       "196       100  \n",
       "197         2  \n",
       "198       116  \n",
       "199         2  \n",
       "\n",
       "[200 rows x 5 columns]"
      ]
     },
     "execution_count": 3,
     "metadata": {},
     "output_type": "execute_result"
    }
   ],
   "source": [
    "top_200"
   ]
  },
  {
   "cell_type": "code",
   "execution_count": 4,
   "metadata": {},
   "outputs": [
    {
     "name": "stdout",
     "output_type": "stream",
     "text": [
      "Please enter a hot 🔥 tune:\n",
      "30\n",
      "You may also like:  ctrl\n",
      "Thanks ✌️ enjoy the tunes!!\n"
     ]
    }
   ],
   "source": [
    "# 🔥Hot or 🙅‍♂️Not\n",
    "\n",
    "for song in top_200.iterrows():\n",
    "    \n",
    "    user_input = input(\"Please enter a hot 🔥 tune:\\n\")    # ask user for song input\n",
    "    \n",
    "    if user_input.lower() in list(top_200[\"song_name\"]):    # if user input is song\n",
    "        \n",
    "        random_song = random.choice(top_200[\"song_name\"])   # random artist + song\n",
    "        random_artist = random.choice(top_200[\"artist\"])   \n",
    "                \n",
    "        print(\"You may also like: \", random_song)\n",
    "        print(\"Thanks ✌️ enjoy the tunes!!\")\n",
    "        break\n",
    "\n",
    "    elif user_input.lower() in list(top_200[\"artist\"]):     # if user input is in artist    \n",
    "        print(\"You may also like: \", random_artist)\n",
    "        print(\"Thanks ✌️ enjoy the tunes!!\")\n",
    "        break\n",
    "        \n",
    "    else:                                                    # elif retry entry  \n",
    "        print(\"Sorry 🙅‍ not hot! Please try again:\")\n",
    "        continue"
   ]
  },
  {
   "cell_type": "code",
   "execution_count": null,
   "metadata": {},
   "outputs": [],
   "source": []
  }
 ],
 "metadata": {
  "hide_input": false,
  "kernelspec": {
   "display_name": "Python 3 (ipykernel)",
   "language": "python",
   "name": "python3"
  },
  "language_info": {
   "codemirror_mode": {
    "name": "ipython",
    "version": 3
   },
   "file_extension": ".py",
   "mimetype": "text/x-python",
   "name": "python",
   "nbconvert_exporter": "python",
   "pygments_lexer": "ipython3",
   "version": "3.9.7"
  },
  "toc": {
   "base_numbering": 1,
   "nav_menu": {},
   "number_sections": true,
   "sideBar": true,
   "skip_h1_title": true,
   "title_cell": "Table of Contents",
   "title_sidebar": "Contents",
   "toc_cell": false,
   "toc_position": {
    "height": "calc(100% - 180px)",
    "left": "10px",
    "top": "150px",
    "width": "189.46px"
   },
   "toc_section_display": true,
   "toc_window_display": true
  },
  "varInspector": {
   "cols": {
    "lenName": 16,
    "lenType": 16,
    "lenVar": 40
   },
   "kernels_config": {
    "python": {
     "delete_cmd_postfix": "",
     "delete_cmd_prefix": "del ",
     "library": "var_list.py",
     "varRefreshCmd": "print(var_dic_list())"
    },
    "r": {
     "delete_cmd_postfix": ") ",
     "delete_cmd_prefix": "rm(",
     "library": "var_list.r",
     "varRefreshCmd": "cat(var_dic_list()) "
    }
   },
   "types_to_exclude": [
    "module",
    "function",
    "builtin_function_or_method",
    "instance",
    "_Feature"
   ],
   "window_display": false
  }
 },
 "nbformat": 4,
 "nbformat_minor": 4
}
