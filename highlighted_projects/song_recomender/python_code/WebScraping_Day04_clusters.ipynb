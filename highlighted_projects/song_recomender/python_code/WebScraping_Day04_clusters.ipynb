{
 "cells": [
  {
   "cell_type": "markdown",
   "id": "0c3d6eae",
   "metadata": {},
   "source": [
    "# Webscraping | Day04 | Clusters\n"
   ]
  },
  {
   "cell_type": "code",
   "execution_count": 62,
   "id": "98870991",
   "metadata": {},
   "outputs": [],
   "source": [
    "import numpy as np \n",
    "import pandas as pd \n",
    "import matplotlib.pyplot as plt \n",
    "import plotly \n",
    "import plotly.graph_objs as go\n",
    "from sklearn.cluster import KMeans \n",
    "from sklearn import datasets "
   ]
  },
  {
   "cell_type": "markdown",
   "id": "dc6ce3c2",
   "metadata": {},
   "source": [
    "## Import and explore the data - EDA "
   ]
  },
  {
   "cell_type": "code",
   "execution_count": 63,
   "id": "4ad5788c",
   "metadata": {},
   "outputs": [],
   "source": [
    "#fetch data \n",
    "features=pd.read_csv('/Users/AFROARC/Documents/GitHub/nomaditect_portfolio/highlighted_projects/song_recomender/python_code/audio_features.csv')"
   ]
  },
  {
   "cell_type": "code",
   "execution_count": 64,
   "id": "0996a406",
   "metadata": {},
   "outputs": [
    {
     "data": {
      "text/html": [
       "<div>\n",
       "<style scoped>\n",
       "    .dataframe tbody tr th:only-of-type {\n",
       "        vertical-align: middle;\n",
       "    }\n",
       "\n",
       "    .dataframe tbody tr th {\n",
       "        vertical-align: top;\n",
       "    }\n",
       "\n",
       "    .dataframe thead th {\n",
       "        text-align: right;\n",
       "    }\n",
       "</style>\n",
       "<table border=\"1\" class=\"dataframe\">\n",
       "  <thead>\n",
       "    <tr style=\"text-align: right;\">\n",
       "      <th></th>\n",
       "      <th>Unnamed: 0</th>\n",
       "      <th>danceability</th>\n",
       "      <th>energy</th>\n",
       "      <th>key</th>\n",
       "      <th>loudness</th>\n",
       "      <th>mode</th>\n",
       "      <th>speechiness</th>\n",
       "      <th>acousticness</th>\n",
       "      <th>instrumentalness</th>\n",
       "      <th>liveness</th>\n",
       "      <th>valence</th>\n",
       "      <th>tempo</th>\n",
       "      <th>type</th>\n",
       "      <th>id</th>\n",
       "      <th>uri</th>\n",
       "      <th>track_href</th>\n",
       "      <th>analysis_url</th>\n",
       "      <th>duration_ms</th>\n",
       "      <th>time_signature</th>\n",
       "    </tr>\n",
       "  </thead>\n",
       "  <tbody>\n",
       "    <tr>\n",
       "      <th>0</th>\n",
       "      <td>0</td>\n",
       "      <td>0.933</td>\n",
       "      <td>0.528</td>\n",
       "      <td>5</td>\n",
       "      <td>-6.472</td>\n",
       "      <td>0</td>\n",
       "      <td>0.1620</td>\n",
       "      <td>0.1120</td>\n",
       "      <td>0.329000</td>\n",
       "      <td>0.163</td>\n",
       "      <td>0.756</td>\n",
       "      <td>109.975</td>\n",
       "      <td>audio_features</td>\n",
       "      <td>57JVGBtBLCfHw2muk5416J</td>\n",
       "      <td>spotify:track:57JVGBtBLCfHw2muk5416J</td>\n",
       "      <td>https://api.spotify.com/v1/tracks/57JVGBtBLCfH...</td>\n",
       "      <td>https://api.spotify.com/v1/audio-analysis/57JV...</td>\n",
       "      <td>214653</td>\n",
       "      <td>4</td>\n",
       "    </tr>\n",
       "    <tr>\n",
       "      <th>1</th>\n",
       "      <td>1</td>\n",
       "      <td>0.547</td>\n",
       "      <td>0.820</td>\n",
       "      <td>8</td>\n",
       "      <td>-6.728</td>\n",
       "      <td>1</td>\n",
       "      <td>0.0805</td>\n",
       "      <td>0.2610</td>\n",
       "      <td>0.000000</td>\n",
       "      <td>0.300</td>\n",
       "      <td>0.933</td>\n",
       "      <td>118.208</td>\n",
       "      <td>audio_features</td>\n",
       "      <td>2Nz6aF1umHh5Et6I5H581L</td>\n",
       "      <td>spotify:track:2Nz6aF1umHh5Et6I5H581L</td>\n",
       "      <td>https://api.spotify.com/v1/tracks/2Nz6aF1umHh5...</td>\n",
       "      <td>https://api.spotify.com/v1/audio-analysis/2Nz6...</td>\n",
       "      <td>172867</td>\n",
       "      <td>4</td>\n",
       "    </tr>\n",
       "    <tr>\n",
       "      <th>2</th>\n",
       "      <td>2</td>\n",
       "      <td>0.274</td>\n",
       "      <td>0.949</td>\n",
       "      <td>11</td>\n",
       "      <td>-8.642</td>\n",
       "      <td>1</td>\n",
       "      <td>0.0896</td>\n",
       "      <td>0.0214</td>\n",
       "      <td>0.007780</td>\n",
       "      <td>0.218</td>\n",
       "      <td>0.497</td>\n",
       "      <td>100.346</td>\n",
       "      <td>audio_features</td>\n",
       "      <td>5Q41NLTmGbVPozwHKK7bk2</td>\n",
       "      <td>spotify:track:5Q41NLTmGbVPozwHKK7bk2</td>\n",
       "      <td>https://api.spotify.com/v1/tracks/5Q41NLTmGbVP...</td>\n",
       "      <td>https://api.spotify.com/v1/audio-analysis/5Q41...</td>\n",
       "      <td>406307</td>\n",
       "      <td>4</td>\n",
       "    </tr>\n",
       "    <tr>\n",
       "      <th>3</th>\n",
       "      <td>3</td>\n",
       "      <td>0.500</td>\n",
       "      <td>0.748</td>\n",
       "      <td>4</td>\n",
       "      <td>-9.072</td>\n",
       "      <td>1</td>\n",
       "      <td>0.0363</td>\n",
       "      <td>0.1270</td>\n",
       "      <td>0.000000</td>\n",
       "      <td>0.447</td>\n",
       "      <td>0.514</td>\n",
       "      <td>118.852</td>\n",
       "      <td>audio_features</td>\n",
       "      <td>4bHsxqR3GMrXTxEPLuK5ue</td>\n",
       "      <td>spotify:track:4bHsxqR3GMrXTxEPLuK5ue</td>\n",
       "      <td>https://api.spotify.com/v1/tracks/4bHsxqR3GMrX...</td>\n",
       "      <td>https://api.spotify.com/v1/audio-analysis/4bHs...</td>\n",
       "      <td>250987</td>\n",
       "      <td>4</td>\n",
       "    </tr>\n",
       "    <tr>\n",
       "      <th>4</th>\n",
       "      <td>4</td>\n",
       "      <td>0.451</td>\n",
       "      <td>0.962</td>\n",
       "      <td>0</td>\n",
       "      <td>-3.947</td>\n",
       "      <td>1</td>\n",
       "      <td>0.0734</td>\n",
       "      <td>0.0188</td>\n",
       "      <td>0.000003</td>\n",
       "      <td>0.277</td>\n",
       "      <td>0.377</td>\n",
       "      <td>131.435</td>\n",
       "      <td>audio_features</td>\n",
       "      <td>4ECNtOnqzxutZkXP4TE3n3</td>\n",
       "      <td>spotify:track:4ECNtOnqzxutZkXP4TE3n3</td>\n",
       "      <td>https://api.spotify.com/v1/tracks/4ECNtOnqzxut...</td>\n",
       "      <td>https://api.spotify.com/v1/audio-analysis/4ECN...</td>\n",
       "      <td>323707</td>\n",
       "      <td>4</td>\n",
       "    </tr>\n",
       "  </tbody>\n",
       "</table>\n",
       "</div>"
      ],
      "text/plain": [
       "   Unnamed: 0  danceability  energy  key  loudness  mode  speechiness  \\\n",
       "0           0         0.933   0.528    5    -6.472     0       0.1620   \n",
       "1           1         0.547   0.820    8    -6.728     1       0.0805   \n",
       "2           2         0.274   0.949   11    -8.642     1       0.0896   \n",
       "3           3         0.500   0.748    4    -9.072     1       0.0363   \n",
       "4           4         0.451   0.962    0    -3.947     1       0.0734   \n",
       "\n",
       "   acousticness  instrumentalness  liveness  valence    tempo            type  \\\n",
       "0        0.1120          0.329000     0.163    0.756  109.975  audio_features   \n",
       "1        0.2610          0.000000     0.300    0.933  118.208  audio_features   \n",
       "2        0.0214          0.007780     0.218    0.497  100.346  audio_features   \n",
       "3        0.1270          0.000000     0.447    0.514  118.852  audio_features   \n",
       "4        0.0188          0.000003     0.277    0.377  131.435  audio_features   \n",
       "\n",
       "                       id                                   uri  \\\n",
       "0  57JVGBtBLCfHw2muk5416J  spotify:track:57JVGBtBLCfHw2muk5416J   \n",
       "1  2Nz6aF1umHh5Et6I5H581L  spotify:track:2Nz6aF1umHh5Et6I5H581L   \n",
       "2  5Q41NLTmGbVPozwHKK7bk2  spotify:track:5Q41NLTmGbVPozwHKK7bk2   \n",
       "3  4bHsxqR3GMrXTxEPLuK5ue  spotify:track:4bHsxqR3GMrXTxEPLuK5ue   \n",
       "4  4ECNtOnqzxutZkXP4TE3n3  spotify:track:4ECNtOnqzxutZkXP4TE3n3   \n",
       "\n",
       "                                          track_href  \\\n",
       "0  https://api.spotify.com/v1/tracks/57JVGBtBLCfH...   \n",
       "1  https://api.spotify.com/v1/tracks/2Nz6aF1umHh5...   \n",
       "2  https://api.spotify.com/v1/tracks/5Q41NLTmGbVP...   \n",
       "3  https://api.spotify.com/v1/tracks/4bHsxqR3GMrX...   \n",
       "4  https://api.spotify.com/v1/tracks/4ECNtOnqzxut...   \n",
       "\n",
       "                                        analysis_url  duration_ms  \\\n",
       "0  https://api.spotify.com/v1/audio-analysis/57JV...       214653   \n",
       "1  https://api.spotify.com/v1/audio-analysis/2Nz6...       172867   \n",
       "2  https://api.spotify.com/v1/audio-analysis/5Q41...       406307   \n",
       "3  https://api.spotify.com/v1/audio-analysis/4bHs...       250987   \n",
       "4  https://api.spotify.com/v1/audio-analysis/4ECN...       323707   \n",
       "\n",
       "   time_signature  \n",
       "0               4  \n",
       "1               4  \n",
       "2               4  \n",
       "3               4  \n",
       "4               4  "
      ]
     },
     "execution_count": 64,
     "metadata": {},
     "output_type": "execute_result"
    }
   ],
   "source": [
    "#preview \n",
    "features.head()"
   ]
  },
  {
   "cell_type": "code",
   "execution_count": 65,
   "id": "47a57697",
   "metadata": {},
   "outputs": [
    {
     "name": "stdout",
     "output_type": "stream",
     "text": [
      "<class 'pandas.core.frame.DataFrame'>\n",
      "RangeIndex: 784 entries, 0 to 783\n",
      "Data columns (total 19 columns):\n",
      " #   Column            Non-Null Count  Dtype  \n",
      "---  ------            --------------  -----  \n",
      " 0   Unnamed: 0        784 non-null    int64  \n",
      " 1   danceability      784 non-null    float64\n",
      " 2   energy            784 non-null    float64\n",
      " 3   key               784 non-null    int64  \n",
      " 4   loudness          784 non-null    float64\n",
      " 5   mode              784 non-null    int64  \n",
      " 6   speechiness       784 non-null    float64\n",
      " 7   acousticness      784 non-null    float64\n",
      " 8   instrumentalness  784 non-null    float64\n",
      " 9   liveness          784 non-null    float64\n",
      " 10  valence           784 non-null    float64\n",
      " 11  tempo             784 non-null    float64\n",
      " 12  type              784 non-null    object \n",
      " 13  id                784 non-null    object \n",
      " 14  uri               784 non-null    object \n",
      " 15  track_href        784 non-null    object \n",
      " 16  analysis_url      784 non-null    object \n",
      " 17  duration_ms       784 non-null    int64  \n",
      " 18  time_signature    784 non-null    int64  \n",
      "dtypes: float64(9), int64(5), object(5)\n",
      "memory usage: 116.5+ KB\n"
     ]
    }
   ],
   "source": [
    "features.info()"
   ]
  },
  {
   "cell_type": "code",
   "execution_count": 66,
   "id": "12a07d0a",
   "metadata": {},
   "outputs": [
    {
     "data": {
      "text/html": [
       "<div>\n",
       "<style scoped>\n",
       "    .dataframe tbody tr th:only-of-type {\n",
       "        vertical-align: middle;\n",
       "    }\n",
       "\n",
       "    .dataframe tbody tr th {\n",
       "        vertical-align: top;\n",
       "    }\n",
       "\n",
       "    .dataframe thead th {\n",
       "        text-align: right;\n",
       "    }\n",
       "</style>\n",
       "<table border=\"1\" class=\"dataframe\">\n",
       "  <thead>\n",
       "    <tr style=\"text-align: right;\">\n",
       "      <th></th>\n",
       "      <th>Unnamed: 0</th>\n",
       "      <th>danceability</th>\n",
       "      <th>energy</th>\n",
       "      <th>key</th>\n",
       "      <th>loudness</th>\n",
       "      <th>mode</th>\n",
       "      <th>speechiness</th>\n",
       "      <th>acousticness</th>\n",
       "      <th>instrumentalness</th>\n",
       "      <th>liveness</th>\n",
       "      <th>valence</th>\n",
       "      <th>tempo</th>\n",
       "      <th>duration_ms</th>\n",
       "      <th>time_signature</th>\n",
       "    </tr>\n",
       "  </thead>\n",
       "  <tbody>\n",
       "    <tr>\n",
       "      <th>count</th>\n",
       "      <td>784.000000</td>\n",
       "      <td>784.000000</td>\n",
       "      <td>784.000000</td>\n",
       "      <td>784.000000</td>\n",
       "      <td>784.000000</td>\n",
       "      <td>784.000000</td>\n",
       "      <td>784.000000</td>\n",
       "      <td>784.000000</td>\n",
       "      <td>784.000000</td>\n",
       "      <td>784.000000</td>\n",
       "      <td>784.000000</td>\n",
       "      <td>784.000000</td>\n",
       "      <td>784.000000</td>\n",
       "      <td>784.000000</td>\n",
       "    </tr>\n",
       "    <tr>\n",
       "      <th>mean</th>\n",
       "      <td>391.500000</td>\n",
       "      <td>0.567277</td>\n",
       "      <td>0.643132</td>\n",
       "      <td>5.006378</td>\n",
       "      <td>-9.439242</td>\n",
       "      <td>0.741071</td>\n",
       "      <td>0.054457</td>\n",
       "      <td>0.260331</td>\n",
       "      <td>0.056431</td>\n",
       "      <td>0.182935</td>\n",
       "      <td>0.634696</td>\n",
       "      <td>122.556790</td>\n",
       "      <td>245585.576531</td>\n",
       "      <td>3.964286</td>\n",
       "    </tr>\n",
       "    <tr>\n",
       "      <th>std</th>\n",
       "      <td>226.465597</td>\n",
       "      <td>0.141117</td>\n",
       "      <td>0.207345</td>\n",
       "      <td>3.524946</td>\n",
       "      <td>3.601253</td>\n",
       "      <td>0.438326</td>\n",
       "      <td>0.043556</td>\n",
       "      <td>0.264862</td>\n",
       "      <td>0.170828</td>\n",
       "      <td>0.151283</td>\n",
       "      <td>0.232926</td>\n",
       "      <td>26.079867</td>\n",
       "      <td>84123.731312</td>\n",
       "      <td>0.250160</td>\n",
       "    </tr>\n",
       "    <tr>\n",
       "      <th>min</th>\n",
       "      <td>0.000000</td>\n",
       "      <td>0.193000</td>\n",
       "      <td>0.019500</td>\n",
       "      <td>0.000000</td>\n",
       "      <td>-33.350000</td>\n",
       "      <td>0.000000</td>\n",
       "      <td>0.022500</td>\n",
       "      <td>0.000007</td>\n",
       "      <td>0.000000</td>\n",
       "      <td>0.029300</td>\n",
       "      <td>0.031300</td>\n",
       "      <td>61.084000</td>\n",
       "      <td>60672.000000</td>\n",
       "      <td>1.000000</td>\n",
       "    </tr>\n",
       "    <tr>\n",
       "      <th>25%</th>\n",
       "      <td>195.750000</td>\n",
       "      <td>0.472750</td>\n",
       "      <td>0.490750</td>\n",
       "      <td>2.000000</td>\n",
       "      <td>-11.798000</td>\n",
       "      <td>0.000000</td>\n",
       "      <td>0.032675</td>\n",
       "      <td>0.043375</td>\n",
       "      <td>0.000003</td>\n",
       "      <td>0.083900</td>\n",
       "      <td>0.471000</td>\n",
       "      <td>105.701750</td>\n",
       "      <td>190856.500000</td>\n",
       "      <td>4.000000</td>\n",
       "    </tr>\n",
       "    <tr>\n",
       "      <th>50%</th>\n",
       "      <td>391.500000</td>\n",
       "      <td>0.567000</td>\n",
       "      <td>0.661000</td>\n",
       "      <td>5.000000</td>\n",
       "      <td>-9.154000</td>\n",
       "      <td>1.000000</td>\n",
       "      <td>0.039600</td>\n",
       "      <td>0.159500</td>\n",
       "      <td>0.000157</td>\n",
       "      <td>0.123500</td>\n",
       "      <td>0.662500</td>\n",
       "      <td>121.579500</td>\n",
       "      <td>232040.000000</td>\n",
       "      <td>4.000000</td>\n",
       "    </tr>\n",
       "    <tr>\n",
       "      <th>75%</th>\n",
       "      <td>587.250000</td>\n",
       "      <td>0.667000</td>\n",
       "      <td>0.806750</td>\n",
       "      <td>9.000000</td>\n",
       "      <td>-6.699000</td>\n",
       "      <td>1.000000</td>\n",
       "      <td>0.058000</td>\n",
       "      <td>0.422750</td>\n",
       "      <td>0.007705</td>\n",
       "      <td>0.243250</td>\n",
       "      <td>0.831000</td>\n",
       "      <td>136.574000</td>\n",
       "      <td>282663.000000</td>\n",
       "      <td>4.000000</td>\n",
       "    </tr>\n",
       "    <tr>\n",
       "      <th>max</th>\n",
       "      <td>783.000000</td>\n",
       "      <td>0.980000</td>\n",
       "      <td>0.987000</td>\n",
       "      <td>11.000000</td>\n",
       "      <td>-1.574000</td>\n",
       "      <td>1.000000</td>\n",
       "      <td>0.410000</td>\n",
       "      <td>0.989000</td>\n",
       "      <td>0.959000</td>\n",
       "      <td>0.977000</td>\n",
       "      <td>0.985000</td>\n",
       "      <td>208.282000</td>\n",
       "      <td>811077.000000</td>\n",
       "      <td>5.000000</td>\n",
       "    </tr>\n",
       "  </tbody>\n",
       "</table>\n",
       "</div>"
      ],
      "text/plain": [
       "       Unnamed: 0  danceability      energy         key    loudness  \\\n",
       "count  784.000000    784.000000  784.000000  784.000000  784.000000   \n",
       "mean   391.500000      0.567277    0.643132    5.006378   -9.439242   \n",
       "std    226.465597      0.141117    0.207345    3.524946    3.601253   \n",
       "min      0.000000      0.193000    0.019500    0.000000  -33.350000   \n",
       "25%    195.750000      0.472750    0.490750    2.000000  -11.798000   \n",
       "50%    391.500000      0.567000    0.661000    5.000000   -9.154000   \n",
       "75%    587.250000      0.667000    0.806750    9.000000   -6.699000   \n",
       "max    783.000000      0.980000    0.987000   11.000000   -1.574000   \n",
       "\n",
       "             mode  speechiness  acousticness  instrumentalness    liveness  \\\n",
       "count  784.000000   784.000000    784.000000        784.000000  784.000000   \n",
       "mean     0.741071     0.054457      0.260331          0.056431    0.182935   \n",
       "std      0.438326     0.043556      0.264862          0.170828    0.151283   \n",
       "min      0.000000     0.022500      0.000007          0.000000    0.029300   \n",
       "25%      0.000000     0.032675      0.043375          0.000003    0.083900   \n",
       "50%      1.000000     0.039600      0.159500          0.000157    0.123500   \n",
       "75%      1.000000     0.058000      0.422750          0.007705    0.243250   \n",
       "max      1.000000     0.410000      0.989000          0.959000    0.977000   \n",
       "\n",
       "          valence       tempo    duration_ms  time_signature  \n",
       "count  784.000000  784.000000     784.000000      784.000000  \n",
       "mean     0.634696  122.556790  245585.576531        3.964286  \n",
       "std      0.232926   26.079867   84123.731312        0.250160  \n",
       "min      0.031300   61.084000   60672.000000        1.000000  \n",
       "25%      0.471000  105.701750  190856.500000        4.000000  \n",
       "50%      0.662500  121.579500  232040.000000        4.000000  \n",
       "75%      0.831000  136.574000  282663.000000        4.000000  \n",
       "max      0.985000  208.282000  811077.000000        5.000000  "
      ]
     },
     "execution_count": 66,
     "metadata": {},
     "output_type": "execute_result"
    }
   ],
   "source": [
    "features.describe()"
   ]
  },
  {
   "cell_type": "markdown",
   "id": "283058ff",
   "metadata": {},
   "source": [
    "# drop non numerical"
   ]
  },
  {
   "cell_type": "code",
   "execution_count": 67,
   "id": "0d7a4e2d",
   "metadata": {},
   "outputs": [],
   "source": [
    "numerical_df = features.drop(['Unnamed: 0','type','id','uri','track_href','analysis_url'],axis=1) "
   ]
  },
  {
   "cell_type": "code",
   "execution_count": 68,
   "id": "e17a0e12",
   "metadata": {},
   "outputs": [
    {
     "data": {
      "image/png": "[encoded data removed]",
      "text/plain": [
       "<Figure size 720x720 with 16 Axes>"
      ]
     },
     "metadata": {
      "needs_background": "light"
     },
     "output_type": "display_data"
    }
   ],
   "source": [
    "#look at the distribution \n",
    "numerical_df.hist(bins=15, figsize=(10,10));"
   ]
  },
  {
   "cell_type": "markdown",
   "id": "c3340f9c",
   "metadata": {},
   "source": [
    "#### awareness of KMEANS restrictions \n",
    "- everything must be numerical \n",
    "- ideally similar scales for all data points "
   ]
  },
  {
   "cell_type": "markdown",
   "id": "7c121789",
   "metadata": {},
   "source": [
    "## Visualise to look for patterns\n",
    "\n",
    "+ how to show 4 numerical fields in one 2d visual ? \n",
    "+ use colour and size plus two axis "
   ]
  },
  {
   "cell_type": "code",
   "execution_count": 111,
   "id": "fb8b1257",
   "metadata": {},
   "outputs": [
    {
     "data": {
      "text/plain": [
       "['danceability',\n",
       " 'energy',\n",
       " 'key',\n",
       " 'loudness',\n",
       " 'mode',\n",
       " 'speechiness',\n",
       " 'acousticness',\n",
       " 'instrumentalness',\n",
       " 'liveness',\n",
       " 'valence',\n",
       " 'tempo',\n",
       " 'duration_ms',\n",
       " 'time_signature',\n",
       " 'cluster']"
      ]
     },
     "execution_count": 111,
     "metadata": {},
     "output_type": "execute_result"
    }
   ],
   "source": [
    "dflist = numerical_df.columns.to_list()\n",
    "dflist"
   ]
  },
  {
   "cell_type": "code",
   "execution_count": 69,
   "id": "8cd50551",
   "metadata": {},
   "outputs": [
    {
     "data": {
      "image/png": "[encoded data removed]",
      "text/plain": [
       "<Figure size 432x288 with 1 Axes>"
      ]
     },
     "metadata": {
      "needs_background": "light"
     },
     "output_type": "display_data"
    }
   ],
   "source": [
    "plt.scatter(numerical_df.iloc[:,0],numerical_df.iloc[:,3],numerical_df.iloc[:,2],numerical_df.iloc[:,1]);\n",
    "#x=danceability, y= loudness, size= key, colour=energy"
   ]
  },
  {
   "cell_type": "markdown",
   "id": "040fbeca",
   "metadata": {},
   "source": [
    "+ also examined the data in tableau \n",
    "+ looked for geographical patterns - definitely visible in urban popln\n",
    "+ can see some clusters potentially in the other variables \n",
    "+ we only have 50 states, so lets try clustering into 5 groups "
   ]
  },
  {
   "cell_type": "markdown",
   "id": "70458c77",
   "metadata": {},
   "source": [
    "## Apply Clustering "
   ]
  },
  {
   "cell_type": "code",
   "execution_count": 70,
   "id": "ff246bda",
   "metadata": {},
   "outputs": [],
   "source": [
    "kmeans=KMeans(n_clusters=15)\n",
    "#have to set a starting cluster number "
   ]
  },
  {
   "cell_type": "code",
   "execution_count": 71,
   "id": "128284c1",
   "metadata": {},
   "outputs": [],
   "source": [
    "cluster=kmeans.fit(numerical_df)"
   ]
  },
  {
   "cell_type": "markdown",
   "id": "fde68894",
   "metadata": {},
   "source": [
    "## Explore clusters "
   ]
  },
  {
   "cell_type": "code",
   "execution_count": 72,
   "id": "37365918",
   "metadata": {},
   "outputs": [
    {
     "data": {
      "text/plain": [
       "array([[ 5.79010204e-01,  6.65438776e-01,  4.39795918e+00,\n",
       "        -8.91905102e+00,  7.65306122e-01,  5.45418367e-02,\n",
       "         2.63805408e-01,  2.46252152e-02,  1.85139796e-01,\n",
       "         6.74459184e-01,  1.23400418e+02,  2.07117724e+05,\n",
       "         3.97959184e+00],\n",
       "       [ 5.30763158e-01,  6.43421053e-01,  4.39473684e+00,\n",
       "        -9.62052632e+00,  7.10526316e-01,  5.98789474e-02,\n",
       "         2.01507289e-01,  7.87872463e-02,  2.47992105e-01,\n",
       "         5.40936842e-01,  1.22465947e+02,  3.26542368e+05,\n",
       "         3.97368421e+00],\n",
       "       [ 4.85388889e-01,  6.29333333e-01,  5.05555556e+00,\n",
       "        -1.02335556e+01,  6.11111111e-01,  4.85500000e-02,\n",
       "         2.44122222e-01,  8.24963278e-02,  1.65894444e-01,\n",
       "         4.71500000e-01,  1.19572278e+02,  5.05614167e+05,\n",
       "         3.94444444e+00],\n",
       "       [ 6.01464646e-01,  6.61383838e-01,  5.14141414e+00,\n",
       "        -9.69217172e+00,  7.07070707e-01,  4.47010101e-02,\n",
       "         1.90366040e-01,  2.28015749e-02,  1.67152525e-01,\n",
       "         6.58638384e-01,  1.19759374e+02,  2.46850202e+05,\n",
       "         4.00000000e+00],\n",
       "       [ 5.91890244e-01,  5.68414634e-01,  5.24390244e+00,\n",
       "        -9.63517073e+00,  8.17073171e-01,  5.07280488e-02,\n",
       "         3.34621854e-01,  4.49139440e-02,  1.76418293e-01,\n",
       "         6.50400000e-01,  1.21716890e+02,  1.84792841e+05,\n",
       "         3.93902439e+00],\n",
       "       [ 5.14444444e-01,  6.39027778e-01,  4.94444444e+00,\n",
       "        -9.53005556e+00,  7.22222222e-01,  5.35972222e-02,\n",
       "         1.94384472e-01,  3.92913628e-02,  1.55238889e-01,\n",
       "         5.46611111e-01,  1.30095222e+02,  3.68498444e+05,\n",
       "         3.91666667e+00],\n",
       "       [ 5.40609195e-01,  6.69252874e-01,  5.56321839e+00,\n",
       "        -9.36879310e+00,  7.70114943e-01,  5.22252874e-02,\n",
       "         1.96488735e-01,  3.67851318e-02,  1.77741379e-01,\n",
       "         6.03466667e-01,  1.24364701e+02,  2.92316506e+05,\n",
       "         3.95402299e+00],\n",
       "       [ 5.01333333e-01,  5.32000000e-01,  6.00000000e+00,\n",
       "        -9.63633333e+00,  6.66666667e-01,  3.63000000e-02,\n",
       "         1.39366667e-01,  2.81192667e-02,  9.57000000e-02,\n",
       "         5.02066667e-01,  1.07513000e+02,  6.75137667e+05,\n",
       "         4.00000000e+00],\n",
       "       [ 4.59888889e-01,  6.18111111e-01,  5.05555556e+00,\n",
       "        -9.89250000e+00,  7.22222222e-01,  7.45388889e-02,\n",
       "         3.19409778e-01,  1.16731056e-01,  1.77211111e-01,\n",
       "         4.34666667e-01,  1.23544667e+02,  4.32810278e+05,\n",
       "         3.94444444e+00],\n",
       "       [ 5.76963636e-01,  5.99763636e-01,  5.00000000e+00,\n",
       "        -9.25514545e+00,  8.00000000e-01,  6.28763636e-02,\n",
       "         4.16647618e-01,  9.66838427e-02,  1.82032727e-01,\n",
       "         7.22345455e-01,  1.24253509e+02,  1.38665182e+05,\n",
       "         3.94545455e+00],\n",
       "       [ 4.91857143e-01,  4.50071429e-01,  4.00000000e+00,\n",
       "        -1.38927143e+01,  5.71428571e-01,  7.42428571e-02,\n",
       "         5.46457143e-01,  4.88938143e-01,  2.45614286e-01,\n",
       "         4.39328571e-01,  1.17744571e+02,  9.37668571e+04,\n",
       "         4.00000000e+00],\n",
       "       [ 5.86272727e-01,  6.85131313e-01,  5.28282828e+00,\n",
       "        -8.83993939e+00,  7.07070707e-01,  5.82676768e-02,\n",
       "         2.03314202e-01,  5.03260753e-02,  1.98813131e-01,\n",
       "         6.75028283e-01,  1.23511081e+02,  2.25346727e+05,\n",
       "         3.96969697e+00],\n",
       "       [ 2.64000000e-01,  2.94000000e-01,  7.00000000e+00,\n",
       "        -1.19410000e+01,  0.00000000e+00,  2.80000000e-02,\n",
       "         7.72000000e-01,  6.86000000e-01,  1.07000000e-01,\n",
       "         4.02000000e-02,  1.37937000e+02,  8.11077000e+05,\n",
       "         3.00000000e+00],\n",
       "       [ 5.89513514e-01,  6.82925676e-01,  5.44594595e+00,\n",
       "        -9.38277027e+00,  7.56756757e-01,  5.29797297e-02,\n",
       "         1.78819595e-01,  6.12847686e-02,  1.62189189e-01,\n",
       "         6.30351351e-01,  1.21215514e+02,  2.69185892e+05,\n",
       "         3.97297297e+00],\n",
       "       [ 5.59072464e-01,  6.14342029e-01,  4.20289855e+00,\n",
       "        -9.76902899e+00,  7.10144928e-01,  5.79115942e-02,\n",
       "         4.17047206e-01,  8.21152759e-02,  2.00017391e-01,\n",
       "         6.68057971e-01,  1.20364855e+02,  1.63827783e+05,\n",
       "         3.97101449e+00]])"
      ]
     },
     "execution_count": 72,
     "metadata": {},
     "output_type": "execute_result"
    }
   ],
   "source": [
    "cluster.cluster_centers_"
   ]
  },
  {
   "cell_type": "code",
   "execution_count": 73,
   "id": "ec00c6f9",
   "metadata": {},
   "outputs": [
    {
     "data": {
      "text/plain": [
       "array([ 0, 14,  8,  3,  1,  3,  9,  3,  3,  3,  6,  5,  3, 13,  0,  3, 13,\n",
       "       14,  1,  0,  6,  1,  6,  0,  0,  6, 13,  0, 11, 13, 11,  3,  9,  2,\n",
       "       13,  6, 11,  6,  0,  4, 13,  6, 11,  4,  1,  6, 11, 13, 11,  5,  3,\n",
       "        6, 13, 13,  3,  1,  6,  3,  0,  3,  6, 13,  4,  4,  0,  5,  0,  6,\n",
       "        6, 11, 13,  3, 13,  5,  0,  3,  3,  4,  2, 13,  0, 11,  5, 11,  3,\n",
       "       11,  6, 11,  0, 11,  4,  5, 13, 11,  5,  4, 13,  0,  6, 14, 11,  5,\n",
       "        0,  6,  4,  5,  3, 11, 14,  3,  0, 14,  9,  9, 14,  0,  1,  6,  4,\n",
       "        3,  0,  3,  9,  1,  8,  6,  4,  0,  4,  1,  2,  9,  6, 13, 13,  6,\n",
       "       13,  0,  4,  4,  4,  9,  4,  0, 11,  0,  9,  4,  4,  0,  9,  4,  3,\n",
       "        6,  0,  0,  3,  1,  3,  0,  1, 14,  9, 13,  0,  3,  4,  0,  8,  0,\n",
       "       13,  3, 13,  6, 13,  4,  3,  3, 11, 11, 13,  4,  3,  6,  6,  3,  6,\n",
       "        4,  6, 13, 14, 11,  0,  4,  6, 11, 13, 13, 11,  3,  6, 11, 13,  0,\n",
       "        0,  6, 11,  0,  1,  4, 14,  6,  5, 13,  0, 13,  4,  0,  3,  4,  3,\n",
       "        0,  6,  0,  2,  0,  9,  3,  9,  6,  9,  0, 14, 14, 14, 11,  4,  0,\n",
       "        2,  6,  2,  8, 10, 14, 11,  8,  6,  5,  2,  0, 11,  9,  9, 14, 11,\n",
       "       11,  0,  0,  0, 11,  3,  3,  6,  1, 13,  4, 14, 11,  0, 12,  6, 11,\n",
       "        3,  4, 11,  1,  3,  3,  0,  0,  1,  4,  6,  1,  4,  9,  0,  0,  4,\n",
       "        9,  3,  6,  3, 14, 13,  4, 13,  1,  6, 13, 11,  1,  3,  1, 11,  3,\n",
       "        8,  8,  3,  0,  5, 11,  6,  0,  0,  0,  0, 14, 13,  3,  9,  4, 13,\n",
       "        4,  4,  6,  3, 14,  1,  0, 13, 11, 13, 13, 13,  1,  3,  3,  6, 13,\n",
       "        3, 13,  3, 11,  1, 11, 11,  5,  4,  3, 13, 11,  2,  1,  0,  0,  6,\n",
       "        5,  4, 11,  6,  3,  3,  0, 14,  5,  6,  1,  0, 11,  4,  5,  5,  6,\n",
       "        4,  3,  3,  1,  2, 13,  6,  6,  8, 11, 14,  6, 11,  9,  5,  8, 11,\n",
       "        0,  6,  3, 11,  6,  6,  2,  0, 11,  4,  0,  4,  2, 14,  0,  9,  9,\n",
       "        9, 13, 14, 13,  0, 13,  1,  1,  9,  4,  0, 11, 13, 14, 11, 13,  0,\n",
       "        9, 14,  3, 14,  8, 14,  4,  5,  3,  6,  3,  5,  1, 14, 11, 13,  3,\n",
       "        9,  3, 11,  3, 14,  9, 13, 11,  9,  4, 14,  4,  2,  3,  4,  0, 14,\n",
       "        0,  3, 11, 11,  3,  0,  3,  4, 13, 14,  6, 14,  4,  4,  6,  4, 11,\n",
       "        6,  6, 14,  3,  3, 11, 14,  7, 14,  4,  9, 11, 13, 14, 11, 11,  3,\n",
       "       11, 14,  3, 13, 11, 11,  3, 14, 11,  5,  4,  9,  4,  6,  3,  0,  1,\n",
       "       13, 11,  5,  2,  9,  3,  0, 11,  5,  3,  0, 14,  0,  6,  6, 14,  3,\n",
       "        6,  4,  3,  8,  2, 14, 13,  6,  8,  9,  5,  8, 14, 13,  0, 14, 13,\n",
       "        0,  4, 10,  9,  9, 14,  9,  0, 13,  1,  2, 13,  4, 14,  4,  0,  6,\n",
       "        8, 14,  4,  9,  3,  9, 14,  0,  4, 14, 14,  0,  7,  6,  3, 11,  0,\n",
       "        6,  3,  3,  0, 14,  4,  6,  3,  6, 11,  6, 13, 11,  0,  0,  1,  1,\n",
       "        3, 11,  4, 11,  6,  9,  9,  3, 11,  2, 14,  9,  0, 11,  1,  3, 11,\n",
       "        3,  9,  8, 11,  3,  4,  0, 11, 11, 13,  0,  9,  9,  4,  5,  9,  4,\n",
       "        5, 14, 11,  6,  1, 11,  3,  6, 10,  4,  4,  6, 14,  9,  2,  0, 13,\n",
       "        6,  0,  4,  3,  4,  4,  3, 11, 11, 13,  3,  6, 13,  6, 10, 14,  1,\n",
       "        1, 11,  5,  8, 10, 11, 11,  3, 14,  9,  8, 13, 11, 13, 11, 14, 10,\n",
       "        9,  6, 13,  0, 14,  3, 14,  9, 14, 14,  1, 13, 11,  0,  0,  6,  4,\n",
       "       13, 11,  8,  5, 11,  5, 13,  4,  0, 14,  9, 14, 14,  6, 11,  0,  4,\n",
       "       11,  5,  3,  0, 14,  5,  4, 14,  9, 11,  5,  9,  6,  0, 14,  5,  1,\n",
       "       14, 13, 11,  4,  9,  0,  4,  3, 14,  9,  4, 13, 11, 11,  6,  0,  9,\n",
       "       11,  4,  6,  6,  5, 10,  1,  6,  4, 13,  6,  4,  7,  3,  3,  9,  9,\n",
       "       14,  6,  2,  4,  5,  3,  3, 11,  0,  3,  6,  5,  3,  6, 11, 13,  4,\n",
       "       11, 11], dtype=int32)"
      ]
     },
     "execution_count": 73,
     "metadata": {},
     "output_type": "execute_result"
    }
   ],
   "source": [
    "cluster.labels_"
   ]
  },
  {
   "cell_type": "code",
   "execution_count": 74,
   "id": "95e83147",
   "metadata": {},
   "outputs": [],
   "source": [
    "#bring cluster into data frame\n",
    "numerical_df=numerical_df.copy()\n",
    "numerical_df['cluster']=cluster.labels_"
   ]
  },
  {
   "cell_type": "code",
   "execution_count": 75,
   "id": "1a91a7c8",
   "metadata": {},
   "outputs": [
    {
     "data": {
      "text/html": [
       "<div>\n",
       "<style scoped>\n",
       "    .dataframe tbody tr th:only-of-type {\n",
       "        vertical-align: middle;\n",
       "    }\n",
       "\n",
       "    .dataframe tbody tr th {\n",
       "        vertical-align: top;\n",
       "    }\n",
       "\n",
       "    .dataframe thead th {\n",
       "        text-align: right;\n",
       "    }\n",
       "</style>\n",
       "<table border=\"1\" class=\"dataframe\">\n",
       "  <thead>\n",
       "    <tr style=\"text-align: right;\">\n",
       "      <th></th>\n",
       "      <th>danceability</th>\n",
       "      <th>energy</th>\n",
       "      <th>key</th>\n",
       "      <th>loudness</th>\n",
       "      <th>mode</th>\n",
       "      <th>speechiness</th>\n",
       "      <th>acousticness</th>\n",
       "      <th>instrumentalness</th>\n",
       "      <th>liveness</th>\n",
       "      <th>valence</th>\n",
       "      <th>tempo</th>\n",
       "      <th>duration_ms</th>\n",
       "      <th>time_signature</th>\n",
       "      <th>cluster</th>\n",
       "    </tr>\n",
       "  </thead>\n",
       "  <tbody>\n",
       "    <tr>\n",
       "      <th>0</th>\n",
       "      <td>0.933</td>\n",
       "      <td>0.528</td>\n",
       "      <td>5</td>\n",
       "      <td>-6.472</td>\n",
       "      <td>0</td>\n",
       "      <td>0.1620</td>\n",
       "      <td>0.1120</td>\n",
       "      <td>0.329000</td>\n",
       "      <td>0.163</td>\n",
       "      <td>0.756</td>\n",
       "      <td>109.975</td>\n",
       "      <td>214653</td>\n",
       "      <td>4</td>\n",
       "      <td>0</td>\n",
       "    </tr>\n",
       "    <tr>\n",
       "      <th>1</th>\n",
       "      <td>0.547</td>\n",
       "      <td>0.820</td>\n",
       "      <td>8</td>\n",
       "      <td>-6.728</td>\n",
       "      <td>1</td>\n",
       "      <td>0.0805</td>\n",
       "      <td>0.2610</td>\n",
       "      <td>0.000000</td>\n",
       "      <td>0.300</td>\n",
       "      <td>0.933</td>\n",
       "      <td>118.208</td>\n",
       "      <td>172867</td>\n",
       "      <td>4</td>\n",
       "      <td>14</td>\n",
       "    </tr>\n",
       "    <tr>\n",
       "      <th>2</th>\n",
       "      <td>0.274</td>\n",
       "      <td>0.949</td>\n",
       "      <td>11</td>\n",
       "      <td>-8.642</td>\n",
       "      <td>1</td>\n",
       "      <td>0.0896</td>\n",
       "      <td>0.0214</td>\n",
       "      <td>0.007780</td>\n",
       "      <td>0.218</td>\n",
       "      <td>0.497</td>\n",
       "      <td>100.346</td>\n",
       "      <td>406307</td>\n",
       "      <td>4</td>\n",
       "      <td>8</td>\n",
       "    </tr>\n",
       "    <tr>\n",
       "      <th>3</th>\n",
       "      <td>0.500</td>\n",
       "      <td>0.748</td>\n",
       "      <td>4</td>\n",
       "      <td>-9.072</td>\n",
       "      <td>1</td>\n",
       "      <td>0.0363</td>\n",
       "      <td>0.1270</td>\n",
       "      <td>0.000000</td>\n",
       "      <td>0.447</td>\n",
       "      <td>0.514</td>\n",
       "      <td>118.852</td>\n",
       "      <td>250987</td>\n",
       "      <td>4</td>\n",
       "      <td>3</td>\n",
       "    </tr>\n",
       "    <tr>\n",
       "      <th>4</th>\n",
       "      <td>0.451</td>\n",
       "      <td>0.962</td>\n",
       "      <td>0</td>\n",
       "      <td>-3.947</td>\n",
       "      <td>1</td>\n",
       "      <td>0.0734</td>\n",
       "      <td>0.0188</td>\n",
       "      <td>0.000003</td>\n",
       "      <td>0.277</td>\n",
       "      <td>0.377</td>\n",
       "      <td>131.435</td>\n",
       "      <td>323707</td>\n",
       "      <td>4</td>\n",
       "      <td>1</td>\n",
       "    </tr>\n",
       "  </tbody>\n",
       "</table>\n",
       "</div>"
      ],
      "text/plain": [
       "   danceability  energy  key  loudness  mode  speechiness  acousticness  \\\n",
       "0         0.933   0.528    5    -6.472     0       0.1620        0.1120   \n",
       "1         0.547   0.820    8    -6.728     1       0.0805        0.2610   \n",
       "2         0.274   0.949   11    -8.642     1       0.0896        0.0214   \n",
       "3         0.500   0.748    4    -9.072     1       0.0363        0.1270   \n",
       "4         0.451   0.962    0    -3.947     1       0.0734        0.0188   \n",
       "\n",
       "   instrumentalness  liveness  valence    tempo  duration_ms  time_signature  \\\n",
       "0          0.329000     0.163    0.756  109.975       214653               4   \n",
       "1          0.000000     0.300    0.933  118.208       172867               4   \n",
       "2          0.007780     0.218    0.497  100.346       406307               4   \n",
       "3          0.000000     0.447    0.514  118.852       250987               4   \n",
       "4          0.000003     0.277    0.377  131.435       323707               4   \n",
       "\n",
       "   cluster  \n",
       "0        0  \n",
       "1       14  \n",
       "2        8  \n",
       "3        3  \n",
       "4        1  "
      ]
     },
     "execution_count": 75,
     "metadata": {},
     "output_type": "execute_result"
    }
   ],
   "source": [
    "numerical_df.head()"
   ]
  },
  {
   "cell_type": "markdown",
   "id": "ded4618d",
   "metadata": {},
   "source": [
    "## Visually explore clusters "
   ]
  },
  {
   "cell_type": "markdown",
   "id": "5532ec32",
   "metadata": {},
   "source": [
    "### 2 fields at a time with cluster on colour "
   ]
  },
  {
   "cell_type": "code",
   "execution_count": 76,
   "id": "ef693745",
   "metadata": {},
   "outputs": [
    {
     "data": {
      "image/png": "[encoded data removed]",
      "text/plain": [
       "<Figure size 432x288 with 1 Axes>"
      ]
     },
     "metadata": {
      "needs_background": "light"
     },
     "output_type": "display_data"
    }
   ],
   "source": [
    "plt.scatter(numerical_df.iloc[:,0],numerical_df.iloc[:,2],c=numerical_df.iloc[:,4]);\n",
    "# plot 2 numeric values with the cluster to examine it "
   ]
  },
  {
   "cell_type": "code",
   "execution_count": 77,
   "id": "510c45e7",
   "metadata": {},
   "outputs": [
    {
     "data": {
      "image/png": "[encoded data removed]",
      "text/plain": [
       "<Figure size 432x288 with 1 Axes>"
      ]
     },
     "metadata": {
      "needs_background": "light"
     },
     "output_type": "display_data"
    }
   ],
   "source": [
    "plt.scatter(numerical_df.iloc[:,2],numerical_df.iloc[:,3],c=numerical_df.iloc[:,4]);"
   ]
  },
  {
   "cell_type": "markdown",
   "id": "75db52e7",
   "metadata": {},
   "source": [
    "### 3 d plotting with plotly "
   ]
  },
  {
   "cell_type": "code",
   "execution_count": 78,
   "id": "db35a32d",
   "metadata": {},
   "outputs": [
    {
     "data": {
      "text/html": [
       "<div>\n",
       "<style scoped>\n",
       "    .dataframe tbody tr th:only-of-type {\n",
       "        vertical-align: middle;\n",
       "    }\n",
       "\n",
       "    .dataframe tbody tr th {\n",
       "        vertical-align: top;\n",
       "    }\n",
       "\n",
       "    .dataframe thead th {\n",
       "        text-align: right;\n",
       "    }\n",
       "</style>\n",
       "<table border=\"1\" class=\"dataframe\">\n",
       "  <thead>\n",
       "    <tr style=\"text-align: right;\">\n",
       "      <th></th>\n",
       "      <th>danceability</th>\n",
       "      <th>energy</th>\n",
       "      <th>key</th>\n",
       "      <th>loudness</th>\n",
       "      <th>mode</th>\n",
       "      <th>speechiness</th>\n",
       "      <th>acousticness</th>\n",
       "      <th>instrumentalness</th>\n",
       "      <th>liveness</th>\n",
       "      <th>valence</th>\n",
       "      <th>tempo</th>\n",
       "      <th>duration_ms</th>\n",
       "      <th>time_signature</th>\n",
       "      <th>cluster</th>\n",
       "    </tr>\n",
       "  </thead>\n",
       "  <tbody>\n",
       "    <tr>\n",
       "      <th>0</th>\n",
       "      <td>0.933</td>\n",
       "      <td>0.528</td>\n",
       "      <td>5</td>\n",
       "      <td>-6.472</td>\n",
       "      <td>0</td>\n",
       "      <td>0.162</td>\n",
       "      <td>0.112</td>\n",
       "      <td>0.329</td>\n",
       "      <td>0.163</td>\n",
       "      <td>0.756</td>\n",
       "      <td>109.975</td>\n",
       "      <td>214653</td>\n",
       "      <td>4</td>\n",
       "      <td>0</td>\n",
       "    </tr>\n",
       "  </tbody>\n",
       "</table>\n",
       "</div>"
      ],
      "text/plain": [
       "   danceability  energy  key  loudness  mode  speechiness  acousticness  \\\n",
       "0         0.933   0.528    5    -6.472     0        0.162         0.112   \n",
       "\n",
       "   instrumentalness  liveness  valence    tempo  duration_ms  time_signature  \\\n",
       "0             0.329     0.163    0.756  109.975       214653               4   \n",
       "\n",
       "   cluster  \n",
       "0        0  "
      ]
     },
     "execution_count": 78,
     "metadata": {},
     "output_type": "execute_result"
    }
   ],
   "source": [
    "numerical_df.head(1)"
   ]
  },
  {
   "cell_type": "code",
   "execution_count": 121,
   "id": "984fed0d",
   "metadata": {},
   "outputs": [],
   "source": [
    "#x=danceability, y= loudness, size= key, colour=energy\n",
    "\n",
    "markersize= numerical_df['key']\n",
    "markercolour= numerical_df['energy']\n",
    "\n",
    "fig1=go.Scatter3d(x=numerical_df['danceability'],\n",
    "                  y=numerical_df['loudness'],\n",
    "                  z=numerical_df['acousticness'],\n",
    "                 marker=dict (size=markersize,\n",
    "                              color=markercolour,\n",
    "                              opacity=0.9,\n",
    "                              colorscale='Viridis'),\n",
    "                 line=dict (width=0.2),\n",
    "                 mode='markers')\n",
    "#make layout \n",
    "mylayout=go.Layout(scene=dict(xaxis=dict(title=\"danceability\"),\n",
    "                              yaxis=dict(title='loudness'),\n",
    "                              zaxis=dict(title='acousticness')))"
   ]
  },
  {
   "cell_type": "code",
   "execution_count": 122,
   "id": "593b4552",
   "metadata": {},
   "outputs": [
    {
     "data": {
      "text/plain": [
       "'5Dplot.html'"
      ]
     },
     "execution_count": 122,
     "metadata": {},
     "output_type": "execute_result"
    }
   ],
   "source": [
    "plotly.offline.plot({\"data\":[fig1],\n",
    "                    \"layout\":mylayout},\n",
    "                   auto_open=True,\n",
    "                   filename=(\"5Dplot.html\"))"
   ]
  },
  {
   "cell_type": "code",
   "execution_count": 81,
   "id": "824d0148",
   "metadata": {},
   "outputs": [],
   "source": [
    "numerical_df.to_csv('numerical_df.csv')"
   ]
  },
  {
   "cell_type": "markdown",
   "id": "206b9b88",
   "metadata": {},
   "source": [
    "## Scaling the data - before clustering \n",
    "+ will it make a difference \n",
    "+ we know clustering algorithms "
   ]
  },
  {
   "cell_type": "code",
   "execution_count": 82,
   "id": "3a35cd10",
   "metadata": {},
   "outputs": [
    {
     "data": {
      "text/html": [
       "<div>\n",
       "<style scoped>\n",
       "    .dataframe tbody tr th:only-of-type {\n",
       "        vertical-align: middle;\n",
       "    }\n",
       "\n",
       "    .dataframe tbody tr th {\n",
       "        vertical-align: top;\n",
       "    }\n",
       "\n",
       "    .dataframe thead th {\n",
       "        text-align: right;\n",
       "    }\n",
       "</style>\n",
       "<table border=\"1\" class=\"dataframe\">\n",
       "  <thead>\n",
       "    <tr style=\"text-align: right;\">\n",
       "      <th></th>\n",
       "      <th>danceability</th>\n",
       "      <th>energy</th>\n",
       "      <th>key</th>\n",
       "      <th>loudness</th>\n",
       "      <th>mode</th>\n",
       "      <th>speechiness</th>\n",
       "      <th>acousticness</th>\n",
       "      <th>instrumentalness</th>\n",
       "      <th>liveness</th>\n",
       "      <th>valence</th>\n",
       "      <th>tempo</th>\n",
       "      <th>duration_ms</th>\n",
       "      <th>time_signature</th>\n",
       "      <th>cluster</th>\n",
       "    </tr>\n",
       "  </thead>\n",
       "  <tbody>\n",
       "    <tr>\n",
       "      <th>0</th>\n",
       "      <td>0.933</td>\n",
       "      <td>0.528</td>\n",
       "      <td>5</td>\n",
       "      <td>-6.472</td>\n",
       "      <td>0</td>\n",
       "      <td>0.1620</td>\n",
       "      <td>0.1120</td>\n",
       "      <td>0.329000</td>\n",
       "      <td>0.163</td>\n",
       "      <td>0.756</td>\n",
       "      <td>109.975</td>\n",
       "      <td>214653</td>\n",
       "      <td>4</td>\n",
       "      <td>0</td>\n",
       "    </tr>\n",
       "    <tr>\n",
       "      <th>1</th>\n",
       "      <td>0.547</td>\n",
       "      <td>0.820</td>\n",
       "      <td>8</td>\n",
       "      <td>-6.728</td>\n",
       "      <td>1</td>\n",
       "      <td>0.0805</td>\n",
       "      <td>0.2610</td>\n",
       "      <td>0.000000</td>\n",
       "      <td>0.300</td>\n",
       "      <td>0.933</td>\n",
       "      <td>118.208</td>\n",
       "      <td>172867</td>\n",
       "      <td>4</td>\n",
       "      <td>14</td>\n",
       "    </tr>\n",
       "    <tr>\n",
       "      <th>2</th>\n",
       "      <td>0.274</td>\n",
       "      <td>0.949</td>\n",
       "      <td>11</td>\n",
       "      <td>-8.642</td>\n",
       "      <td>1</td>\n",
       "      <td>0.0896</td>\n",
       "      <td>0.0214</td>\n",
       "      <td>0.007780</td>\n",
       "      <td>0.218</td>\n",
       "      <td>0.497</td>\n",
       "      <td>100.346</td>\n",
       "      <td>406307</td>\n",
       "      <td>4</td>\n",
       "      <td>8</td>\n",
       "    </tr>\n",
       "    <tr>\n",
       "      <th>3</th>\n",
       "      <td>0.500</td>\n",
       "      <td>0.748</td>\n",
       "      <td>4</td>\n",
       "      <td>-9.072</td>\n",
       "      <td>1</td>\n",
       "      <td>0.0363</td>\n",
       "      <td>0.1270</td>\n",
       "      <td>0.000000</td>\n",
       "      <td>0.447</td>\n",
       "      <td>0.514</td>\n",
       "      <td>118.852</td>\n",
       "      <td>250987</td>\n",
       "      <td>4</td>\n",
       "      <td>3</td>\n",
       "    </tr>\n",
       "    <tr>\n",
       "      <th>4</th>\n",
       "      <td>0.451</td>\n",
       "      <td>0.962</td>\n",
       "      <td>0</td>\n",
       "      <td>-3.947</td>\n",
       "      <td>1</td>\n",
       "      <td>0.0734</td>\n",
       "      <td>0.0188</td>\n",
       "      <td>0.000003</td>\n",
       "      <td>0.277</td>\n",
       "      <td>0.377</td>\n",
       "      <td>131.435</td>\n",
       "      <td>323707</td>\n",
       "      <td>4</td>\n",
       "      <td>1</td>\n",
       "    </tr>\n",
       "  </tbody>\n",
       "</table>\n",
       "</div>"
      ],
      "text/plain": [
       "   danceability  energy  key  loudness  mode  speechiness  acousticness  \\\n",
       "0         0.933   0.528    5    -6.472     0       0.1620        0.1120   \n",
       "1         0.547   0.820    8    -6.728     1       0.0805        0.2610   \n",
       "2         0.274   0.949   11    -8.642     1       0.0896        0.0214   \n",
       "3         0.500   0.748    4    -9.072     1       0.0363        0.1270   \n",
       "4         0.451   0.962    0    -3.947     1       0.0734        0.0188   \n",
       "\n",
       "   instrumentalness  liveness  valence    tempo  duration_ms  time_signature  \\\n",
       "0          0.329000     0.163    0.756  109.975       214653               4   \n",
       "1          0.000000     0.300    0.933  118.208       172867               4   \n",
       "2          0.007780     0.218    0.497  100.346       406307               4   \n",
       "3          0.000000     0.447    0.514  118.852       250987               4   \n",
       "4          0.000003     0.277    0.377  131.435       323707               4   \n",
       "\n",
       "   cluster  \n",
       "0        0  \n",
       "1       14  \n",
       "2        8  \n",
       "3        3  \n",
       "4        1  "
      ]
     },
     "execution_count": 82,
     "metadata": {},
     "output_type": "execute_result"
    }
   ],
   "source": [
    "numerical_df.head()"
   ]
  },
  {
   "cell_type": "code",
   "execution_count": 83,
   "id": "1a7573d6",
   "metadata": {},
   "outputs": [],
   "source": [
    "from sklearn.preprocessing import StandardScaler "
   ]
  },
  {
   "cell_type": "code",
   "execution_count": 84,
   "id": "5bc6a449",
   "metadata": {},
   "outputs": [],
   "source": [
    "features_scaled=StandardScaler().fit_transform(numerical_df)"
   ]
  },
  {
   "cell_type": "code",
   "execution_count": 88,
   "id": "228eac94",
   "metadata": {},
   "outputs": [
    {
     "data": {
      "text/plain": [
       "(784, 14)"
      ]
     },
     "execution_count": 88,
     "metadata": {},
     "output_type": "execute_result"
    }
   ],
   "source": [
    "features_scaled.shape"
   ]
  },
  {
   "cell_type": "code",
   "execution_count": 90,
   "id": "cc604e43",
   "metadata": {},
   "outputs": [],
   "source": [
    "features_scaled_df=pd.DataFrame(features_scaled,columns=['danceability','energy', 'key','loudness','mode','speechiness','acousticness', 'instrumentalness', 'liveness', 'valence', 'tempo', 'duration_ms', 'time_signature', 'cluster'])"
   ]
  },
  {
   "cell_type": "code",
   "execution_count": 91,
   "id": "eddc9d3c",
   "metadata": {},
   "outputs": [
    {
     "data": {
      "text/html": [
       "<div>\n",
       "<style scoped>\n",
       "    .dataframe tbody tr th:only-of-type {\n",
       "        vertical-align: middle;\n",
       "    }\n",
       "\n",
       "    .dataframe tbody tr th {\n",
       "        vertical-align: top;\n",
       "    }\n",
       "\n",
       "    .dataframe thead th {\n",
       "        text-align: right;\n",
       "    }\n",
       "</style>\n",
       "<table border=\"1\" class=\"dataframe\">\n",
       "  <thead>\n",
       "    <tr style=\"text-align: right;\">\n",
       "      <th></th>\n",
       "      <th>danceability</th>\n",
       "      <th>energy</th>\n",
       "      <th>key</th>\n",
       "      <th>loudness</th>\n",
       "      <th>mode</th>\n",
       "      <th>speechiness</th>\n",
       "      <th>acousticness</th>\n",
       "      <th>instrumentalness</th>\n",
       "      <th>liveness</th>\n",
       "      <th>valence</th>\n",
       "      <th>tempo</th>\n",
       "      <th>duration_ms</th>\n",
       "      <th>time_signature</th>\n",
       "      <th>cluster</th>\n",
       "    </tr>\n",
       "  </thead>\n",
       "  <tbody>\n",
       "    <tr>\n",
       "      <th>0</th>\n",
       "      <td>2.593289</td>\n",
       "      <td>-0.555622</td>\n",
       "      <td>-0.001810</td>\n",
       "      <td>0.824473</td>\n",
       "      <td>-1.691765</td>\n",
       "      <td>2.470659</td>\n",
       "      <td>-0.560389</td>\n",
       "      <td>1.596591</td>\n",
       "      <td>-0.131854</td>\n",
       "      <td>0.521115</td>\n",
       "      <td>-0.482741</td>\n",
       "      <td>-0.367938</td>\n",
       "      <td>0.142857</td>\n",
       "      <td>-1.413791</td>\n",
       "    </tr>\n",
       "    <tr>\n",
       "      <th>1</th>\n",
       "      <td>-0.143780</td>\n",
       "      <td>0.853556</td>\n",
       "      <td>0.849810</td>\n",
       "      <td>0.753341</td>\n",
       "      <td>0.591099</td>\n",
       "      <td>0.598310</td>\n",
       "      <td>0.002528</td>\n",
       "      <td>-0.330551</td>\n",
       "      <td>0.774313</td>\n",
       "      <td>1.281497</td>\n",
       "      <td>-0.166855</td>\n",
       "      <td>-0.864976</td>\n",
       "      <td>0.142857</td>\n",
       "      <td>1.593528</td>\n",
       "    </tr>\n",
       "    <tr>\n",
       "      <th>2</th>\n",
       "      <td>-2.079582</td>\n",
       "      <td>1.476104</td>\n",
       "      <td>1.701430</td>\n",
       "      <td>0.221520</td>\n",
       "      <td>0.591099</td>\n",
       "      <td>0.807370</td>\n",
       "      <td>-0.902673</td>\n",
       "      <td>-0.284979</td>\n",
       "      <td>0.231935</td>\n",
       "      <td>-0.591535</td>\n",
       "      <td>-0.852189</td>\n",
       "      <td>1.911756</td>\n",
       "      <td>0.142857</td>\n",
       "      <td>0.304677</td>\n",
       "    </tr>\n",
       "    <tr>\n",
       "      <th>3</th>\n",
       "      <td>-0.477050</td>\n",
       "      <td>0.506087</td>\n",
       "      <td>-0.285684</td>\n",
       "      <td>0.102041</td>\n",
       "      <td>0.591099</td>\n",
       "      <td>-0.417123</td>\n",
       "      <td>-0.503719</td>\n",
       "      <td>-0.330551</td>\n",
       "      <td>1.746624</td>\n",
       "      <td>-0.518504</td>\n",
       "      <td>-0.142146</td>\n",
       "      <td>0.064249</td>\n",
       "      <td>0.142857</td>\n",
       "      <td>-0.769365</td>\n",
       "    </tr>\n",
       "    <tr>\n",
       "      <th>4</th>\n",
       "      <td>-0.824501</td>\n",
       "      <td>1.538841</td>\n",
       "      <td>-1.421177</td>\n",
       "      <td>1.526066</td>\n",
       "      <td>0.591099</td>\n",
       "      <td>0.435197</td>\n",
       "      <td>-0.912495</td>\n",
       "      <td>-0.330533</td>\n",
       "      <td>0.622183</td>\n",
       "      <td>-1.107048</td>\n",
       "      <td>0.340641</td>\n",
       "      <td>0.929242</td>\n",
       "      <td>0.142857</td>\n",
       "      <td>-1.198982</td>\n",
       "    </tr>\n",
       "  </tbody>\n",
       "</table>\n",
       "</div>"
      ],
      "text/plain": [
       "   danceability    energy       key  loudness      mode  speechiness  \\\n",
       "0      2.593289 -0.555622 -0.001810  0.824473 -1.691765     2.470659   \n",
       "1     -0.143780  0.853556  0.849810  0.753341  0.591099     0.598310   \n",
       "2     -2.079582  1.476104  1.701430  0.221520  0.591099     0.807370   \n",
       "3     -0.477050  0.506087 -0.285684  0.102041  0.591099    -0.417123   \n",
       "4     -0.824501  1.538841 -1.421177  1.526066  0.591099     0.435197   \n",
       "\n",
       "   acousticness  instrumentalness  liveness   valence     tempo  duration_ms  \\\n",
       "0     -0.560389          1.596591 -0.131854  0.521115 -0.482741    -0.367938   \n",
       "1      0.002528         -0.330551  0.774313  1.281497 -0.166855    -0.864976   \n",
       "2     -0.902673         -0.284979  0.231935 -0.591535 -0.852189     1.911756   \n",
       "3     -0.503719         -0.330551  1.746624 -0.518504 -0.142146     0.064249   \n",
       "4     -0.912495         -0.330533  0.622183 -1.107048  0.340641     0.929242   \n",
       "\n",
       "   time_signature   cluster  \n",
       "0        0.142857 -1.413791  \n",
       "1        0.142857  1.593528  \n",
       "2        0.142857  0.304677  \n",
       "3        0.142857 -0.769365  \n",
       "4        0.142857 -1.198982  "
      ]
     },
     "execution_count": 91,
     "metadata": {},
     "output_type": "execute_result"
    }
   ],
   "source": [
    "features_scaled_df.head()"
   ]
  },
  {
   "cell_type": "code",
   "execution_count": 92,
   "id": "ccfe7601",
   "metadata": {},
   "outputs": [
    {
     "data": {
      "text/html": [
       "<div>\n",
       "<style scoped>\n",
       "    .dataframe tbody tr th:only-of-type {\n",
       "        vertical-align: middle;\n",
       "    }\n",
       "\n",
       "    .dataframe tbody tr th {\n",
       "        vertical-align: top;\n",
       "    }\n",
       "\n",
       "    .dataframe thead th {\n",
       "        text-align: right;\n",
       "    }\n",
       "</style>\n",
       "<table border=\"1\" class=\"dataframe\">\n",
       "  <thead>\n",
       "    <tr style=\"text-align: right;\">\n",
       "      <th></th>\n",
       "      <th>danceability</th>\n",
       "      <th>energy</th>\n",
       "      <th>key</th>\n",
       "      <th>loudness</th>\n",
       "      <th>mode</th>\n",
       "      <th>speechiness</th>\n",
       "      <th>acousticness</th>\n",
       "      <th>instrumentalness</th>\n",
       "      <th>liveness</th>\n",
       "      <th>valence</th>\n",
       "      <th>tempo</th>\n",
       "      <th>duration_ms</th>\n",
       "      <th>time_signature</th>\n",
       "      <th>cluster</th>\n",
       "    </tr>\n",
       "  </thead>\n",
       "  <tbody>\n",
       "    <tr>\n",
       "      <th>count</th>\n",
       "      <td>7.840000e+02</td>\n",
       "      <td>7.840000e+02</td>\n",
       "      <td>7.840000e+02</td>\n",
       "      <td>7.840000e+02</td>\n",
       "      <td>7.840000e+02</td>\n",
       "      <td>7.840000e+02</td>\n",
       "      <td>7.840000e+02</td>\n",
       "      <td>7.840000e+02</td>\n",
       "      <td>7.840000e+02</td>\n",
       "      <td>7.840000e+02</td>\n",
       "      <td>7.840000e+02</td>\n",
       "      <td>7.840000e+02</td>\n",
       "      <td>7.840000e+02</td>\n",
       "      <td>7.840000e+02</td>\n",
       "    </tr>\n",
       "    <tr>\n",
       "      <th>mean</th>\n",
       "      <td>-2.257265e-16</td>\n",
       "      <td>1.026673e-16</td>\n",
       "      <td>-5.650242e-17</td>\n",
       "      <td>-2.390378e-16</td>\n",
       "      <td>5.689893e-16</td>\n",
       "      <td>-6.875169e-17</td>\n",
       "      <td>-7.930164e-17</td>\n",
       "      <td>-5.317458e-17</td>\n",
       "      <td>7.094665e-17</td>\n",
       "      <td>-7.731910e-17</td>\n",
       "      <td>5.777691e-17</td>\n",
       "      <td>-1.699321e-18</td>\n",
       "      <td>-5.075305e-16</td>\n",
       "      <td>1.818273e-16</td>\n",
       "    </tr>\n",
       "    <tr>\n",
       "      <th>std</th>\n",
       "      <td>1.000638e+00</td>\n",
       "      <td>1.000638e+00</td>\n",
       "      <td>1.000638e+00</td>\n",
       "      <td>1.000638e+00</td>\n",
       "      <td>1.000638e+00</td>\n",
       "      <td>1.000638e+00</td>\n",
       "      <td>1.000638e+00</td>\n",
       "      <td>1.000638e+00</td>\n",
       "      <td>1.000638e+00</td>\n",
       "      <td>1.000638e+00</td>\n",
       "      <td>1.000638e+00</td>\n",
       "      <td>1.000638e+00</td>\n",
       "      <td>1.000638e+00</td>\n",
       "      <td>1.000638e+00</td>\n",
       "    </tr>\n",
       "    <tr>\n",
       "      <th>min</th>\n",
       "      <td>-2.653941e+00</td>\n",
       "      <td>-3.009619e+00</td>\n",
       "      <td>-1.421177e+00</td>\n",
       "      <td>-6.643805e+00</td>\n",
       "      <td>-1.691765e+00</td>\n",
       "      <td>-7.341590e-01</td>\n",
       "      <td>-9.834949e-01</td>\n",
       "      <td>-3.305511e-01</td>\n",
       "      <td>-1.016195e+00</td>\n",
       "      <td>-2.592156e+00</td>\n",
       "      <td>-2.358602e+00</td>\n",
       "      <td>-2.199517e+00</td>\n",
       "      <td>-1.185714e+01</td>\n",
       "      <td>-1.413791e+00</td>\n",
       "    </tr>\n",
       "    <tr>\n",
       "      <th>25%</th>\n",
       "      <td>-6.702753e-01</td>\n",
       "      <td>-7.353891e-01</td>\n",
       "      <td>-8.534305e-01</td>\n",
       "      <td>-6.554006e-01</td>\n",
       "      <td>-1.691765e+00</td>\n",
       "      <td>-5.004026e-01</td>\n",
       "      <td>-8.196518e-01</td>\n",
       "      <td>-3.305351e-01</td>\n",
       "      <td>-6.550504e-01</td>\n",
       "      <td>-7.032291e-01</td>\n",
       "      <td>-6.466981e-01</td>\n",
       "      <td>-6.509936e-01</td>\n",
       "      <td>1.428571e-01</td>\n",
       "      <td>-7.693651e-01</td>\n",
       "    </tr>\n",
       "    <tr>\n",
       "      <th>50%</th>\n",
       "      <td>-1.962646e-03</td>\n",
       "      <td>8.622944e-02</td>\n",
       "      <td>-1.810417e-03</td>\n",
       "      <td>7.925698e-02</td>\n",
       "      <td>5.910986e-01</td>\n",
       "      <td>-3.413104e-01</td>\n",
       "      <td>-3.809353e-01</td>\n",
       "      <td>-3.296344e-01</td>\n",
       "      <td>-3.931217e-01</td>\n",
       "      <td>1.194442e-01</td>\n",
       "      <td>-3.749687e-02</td>\n",
       "      <td>-1.611225e-01</td>\n",
       "      <td>1.428571e-01</td>\n",
       "      <td>-1.249396e-01</td>\n",
       "    </tr>\n",
       "    <tr>\n",
       "      <th>75%</th>\n",
       "      <td>7.071224e-01</td>\n",
       "      <td>7.896121e-01</td>\n",
       "      <td>1.133683e+00</td>\n",
       "      <td>7.613994e-01</td>\n",
       "      <td>5.910986e-01</td>\n",
       "      <td>8.140391e-02</td>\n",
       "      <td>6.136147e-01</td>\n",
       "      <td>-2.854185e-01</td>\n",
       "      <td>3.989481e-01</td>\n",
       "      <td>8.433109e-01</td>\n",
       "      <td>5.378156e-01</td>\n",
       "      <td>4.410300e-01</td>\n",
       "      <td>1.428571e-01</td>\n",
       "      <td>9.491028e-01</td>\n",
       "    </tr>\n",
       "    <tr>\n",
       "      <th>max</th>\n",
       "      <td>2.926559e+00</td>\n",
       "      <td>1.659490e+00</td>\n",
       "      <td>1.701430e+00</td>\n",
       "      <td>2.185424e+00</td>\n",
       "      <td>5.910986e-01</td>\n",
       "      <td>8.168112e+00</td>\n",
       "      <td>2.752889e+00</td>\n",
       "      <td>5.286862e+00</td>\n",
       "      <td>5.252236e+00</td>\n",
       "      <td>1.504886e+00</td>\n",
       "      <td>3.289125e+00</td>\n",
       "      <td>6.726430e+00</td>\n",
       "      <td>4.142857e+00</td>\n",
       "      <td>1.593528e+00</td>\n",
       "    </tr>\n",
       "  </tbody>\n",
       "</table>\n",
       "</div>"
      ],
      "text/plain": [
       "       danceability        energy           key      loudness          mode  \\\n",
       "count  7.840000e+02  7.840000e+02  7.840000e+02  7.840000e+02  7.840000e+02   \n",
       "mean  -2.257265e-16  1.026673e-16 -5.650242e-17 -2.390378e-16  5.689893e-16   \n",
       "std    1.000638e+00  1.000638e+00  1.000638e+00  1.000638e+00  1.000638e+00   \n",
       "min   -2.653941e+00 -3.009619e+00 -1.421177e+00 -6.643805e+00 -1.691765e+00   \n",
       "25%   -6.702753e-01 -7.353891e-01 -8.534305e-01 -6.554006e-01 -1.691765e+00   \n",
       "50%   -1.962646e-03  8.622944e-02 -1.810417e-03  7.925698e-02  5.910986e-01   \n",
       "75%    7.071224e-01  7.896121e-01  1.133683e+00  7.613994e-01  5.910986e-01   \n",
       "max    2.926559e+00  1.659490e+00  1.701430e+00  2.185424e+00  5.910986e-01   \n",
       "\n",
       "        speechiness  acousticness  instrumentalness      liveness  \\\n",
       "count  7.840000e+02  7.840000e+02      7.840000e+02  7.840000e+02   \n",
       "mean  -6.875169e-17 -7.930164e-17     -5.317458e-17  7.094665e-17   \n",
       "std    1.000638e+00  1.000638e+00      1.000638e+00  1.000638e+00   \n",
       "min   -7.341590e-01 -9.834949e-01     -3.305511e-01 -1.016195e+00   \n",
       "25%   -5.004026e-01 -8.196518e-01     -3.305351e-01 -6.550504e-01   \n",
       "50%   -3.413104e-01 -3.809353e-01     -3.296344e-01 -3.931217e-01   \n",
       "75%    8.140391e-02  6.136147e-01     -2.854185e-01  3.989481e-01   \n",
       "max    8.168112e+00  2.752889e+00      5.286862e+00  5.252236e+00   \n",
       "\n",
       "            valence         tempo   duration_ms  time_signature       cluster  \n",
       "count  7.840000e+02  7.840000e+02  7.840000e+02    7.840000e+02  7.840000e+02  \n",
       "mean  -7.731910e-17  5.777691e-17 -1.699321e-18   -5.075305e-16  1.818273e-16  \n",
       "std    1.000638e+00  1.000638e+00  1.000638e+00    1.000638e+00  1.000638e+00  \n",
       "min   -2.592156e+00 -2.358602e+00 -2.199517e+00   -1.185714e+01 -1.413791e+00  \n",
       "25%   -7.032291e-01 -6.466981e-01 -6.509936e-01    1.428571e-01 -7.693651e-01  \n",
       "50%    1.194442e-01 -3.749687e-02 -1.611225e-01    1.428571e-01 -1.249396e-01  \n",
       "75%    8.433109e-01  5.378156e-01  4.410300e-01    1.428571e-01  9.491028e-01  \n",
       "max    1.504886e+00  3.289125e+00  6.726430e+00    4.142857e+00  1.593528e+00  "
      ]
     },
     "execution_count": 92,
     "metadata": {},
     "output_type": "execute_result"
    }
   ],
   "source": [
    "features_scaled_df.describe()"
   ]
  },
  {
   "cell_type": "code",
   "execution_count": null,
   "id": "b63bef4e",
   "metadata": {},
   "outputs": [
    {
     "data": {
      "image/png": "[encoded data removed]",
      "text/plain": [
       "<Figure size 1080x1080 with 16 Axes>"
      ]
     },
     "metadata": {
      "needs_background": "light"
     },
     "output_type": "display_data"
    }
   ],
   "source": [
    "features_scaled_df.hist(bins=15, figsize=(15,15));"
   ]
  },
  {
   "cell_type": "markdown",
   "id": "f73fb26b",
   "metadata": {},
   "source": [
    "# scaled 3d plot"
   ]
  },
  {
   "cell_type": "code",
   "execution_count": 94,
   "id": "984fed0d",
   "metadata": {},
   "outputs": [],
   "source": [
    "#markersize= features_scaled_df['key']\n",
    "#x=danceability, y= loudness, size= key, colour=energy\n",
    "\n",
    "markercolour= features_scaled_df['cluster']\n",
    "\n",
    "fig2=go.Scatter3d(x=features_scaled_df['danceability'],\n",
    "                  y=features_scaled_df['loudness'],\n",
    "                  z=features_scaled_df['tempo'],\n",
    "                 marker=dict (#size=markersize,\n",
    "                              color=markercolour,\n",
    "                              opacity=0.9,\n",
    "                              colorscale='Viridis'),\n",
    "                 line=dict (width=0.2),\n",
    "                 mode='markers')\n",
    "#make layout \n",
    "mylayout=go.Layout(scene=dict(xaxis=dict(title=\"danceability\"),\n",
    "                              yaxis=dict(title='loudness'),\n",
    "                              zaxis=dict(title='tempo')))"
   ]
  },
  {
   "cell_type": "code",
   "execution_count": 95,
   "id": "ef338dfe",
   "metadata": {},
   "outputs": [
    {
     "data": {
      "text/plain": [
       "'5Dplot.html'"
      ]
     },
     "execution_count": 95,
     "metadata": {},
     "output_type": "execute_result"
    }
   ],
   "source": [
    "plotly.offline.plot({\"data\":[fig2],\n",
    "                    \"layout\":mylayout},\n",
    "                   auto_open=True,\n",
    "                   filename=(\"5Dplot.html\"))"
   ]
  },
  {
   "cell_type": "markdown",
   "id": "0da6436f",
   "metadata": {},
   "source": [
    "# finding optimal K"
   ]
  },
  {
   "cell_type": "code",
   "execution_count": 96,
   "id": "da024585",
   "metadata": {},
   "outputs": [
    {
     "data": {
      "text/plain": [
       "55558213643.3989"
      ]
     },
     "execution_count": 96,
     "metadata": {},
     "output_type": "execute_result"
    }
   ],
   "source": [
    "kmeans.inertia_"
   ]
  },
  {
   "cell_type": "code",
   "execution_count": 98,
   "id": "211bdbe8",
   "metadata": {},
   "outputs": [
    {
     "data": {
      "text/plain": [
       "KMeans(n_clusters=9)"
      ]
     },
     "execution_count": 98,
     "metadata": {},
     "output_type": "execute_result"
    }
   ],
   "source": [
    "kmeans=KMeans(n_clusters=9)\n",
    "kmeans.fit(features_scaled_df)"
   ]
  },
  {
   "cell_type": "code",
   "execution_count": 99,
   "id": "cb3fad3b",
   "metadata": {},
   "outputs": [],
   "source": [
    "K= range(2,30)"
   ]
  },
  {
   "cell_type": "code",
   "execution_count": 101,
   "id": "21e91686",
   "metadata": {},
   "outputs": [
    {
     "name": "stdout",
     "output_type": "stream",
     "text": [
      "[9733.075125644697, 9133.523558790619, 8631.11361352064, 8159.143745387636, 7748.120269822459, 7393.902651958677, 6867.540717899555, 6639.806498847617, 6432.023872556549, 6251.321150433081, 6107.967620026257, 5908.985334562058, 5793.017252571369, 5669.4355712051, 5524.0645970584455, 5443.824745991174, 5344.572846387381, 5243.783696504483, 5154.62344886658, 5054.444415832179, 5021.1291617108445, 4949.939223874253, 4881.480016861221, 4836.858420924308, 4750.521913209656, 4692.562429074377, 4671.276058369557, 4617.0349600258305]\n"
     ]
    }
   ],
   "source": [
    "#gathering the k inertia values \n",
    "inertia = []\n",
    "for k in K:\n",
    "    kmeans=KMeans(n_clusters=k,random_state=40)\n",
    "    kmeans.fit(features_scaled_df)\n",
    "    inertia.append(kmeans.inertia_)\n",
    "\n",
    "print(inertia) "
   ]
  },
  {
   "cell_type": "code",
   "execution_count": 102,
   "id": "34a63928",
   "metadata": {},
   "outputs": [
    {
     "data": {
      "image/png": "[encoded data removed]",
      "text/plain": [
       "<Figure size 1152x576 with 1 Axes>"
      ]
     },
     "metadata": {
      "needs_background": "light"
     },
     "output_type": "display_data"
    }
   ],
   "source": [
    "# plot the results \n",
    "plt.figure(figsize=(16,8))\n",
    "plt.plot(K, inertia, 'bx-')\n",
    "plt.xlabel('k')\n",
    "plt.ylabel('inertia')\n",
    "plt.xticks(np.arange(min(K),max(K)+1,1.0))\n",
    "plt.title('elbow method, optimal k by inertia');"
   ]
  },
  {
   "cell_type": "code",
   "execution_count": 103,
   "id": "f65f6d38",
   "metadata": {},
   "outputs": [],
   "source": [
    "from sklearn.metrics import silhouette_score "
   ]
  },
  {
   "cell_type": "code",
   "execution_count": 105,
   "id": "b84bb6b1",
   "metadata": {},
   "outputs": [],
   "source": [
    "K = range(2, 20)\n",
    "\n",
    "silhouettes = []\n",
    "\n",
    "for k in K: \n",
    "    kmeans=KMeans(n_clusters=k, random_state=40)\n",
    "    kmeans.fit(features_scaled_df)\n",
    "    silhouettes.append(silhouette_score(features_scaled_df, kmeans.predict(features_scaled_df)))"
   ]
  },
  {
   "cell_type": "code",
   "execution_count": 106,
   "id": "3e6f9df8",
   "metadata": {},
   "outputs": [
    {
     "data": {
      "text/plain": [
       "Text(0, 0.5, 'silhouette score')"
      ]
     },
     "execution_count": 106,
     "metadata": {},
     "output_type": "execute_result"
    },
    {
     "data": {
      "image/png": "[encoded data removed]",
      "text/plain": [
       "<Figure size 1152x576 with 1 Axes>"
      ]
     },
     "metadata": {
      "needs_background": "light"
     },
     "output_type": "display_data"
    }
   ],
   "source": [
    "plt.figure(figsize=(16,8))\n",
    "plt.plot(K, silhouettes, 'bo-')\n",
    "plt.xlabel('k (number of clusters)')\n",
    "plt.xticks(np.arange(min(K), max(K)+1, 1.0))\n",
    "plt.ylabel('silhouette score')"
   ]
  },
  {
   "cell_type": "code",
   "execution_count": 109,
   "id": "66a644fe",
   "metadata": {},
   "outputs": [],
   "source": [
    "kmeans = KMeans()\n",
    "kmeans.fit(features_scaled)\n",
    "clusters = kmeans.predict(features_scaled)\n",
    "features_scaled_df[\"cluster\"]=clusters"
   ]
  },
  {
   "cell_type": "code",
   "execution_count": 110,
   "id": "2a6d17b9",
   "metadata": {},
   "outputs": [
    {
     "data": {
      "text/plain": [
       "0    113\n",
       "1     33\n",
       "2    100\n",
       "3    109\n",
       "4    157\n",
       "5    138\n",
       "6    131\n",
       "7      3\n",
       "dtype: int64"
      ]
     },
     "execution_count": 110,
     "metadata": {},
     "output_type": "execute_result"
    }
   ],
   "source": [
    "pd.Series(clusters).value_counts().sort_index()"
   ]
  },
  {
   "cell_type": "code",
   "execution_count": null,
   "id": "d98b38c5",
   "metadata": {},
   "outputs": [],
   "source": []
  }
 ],
 "metadata": {
  "kernelspec": {
   "display_name": "Python 3 (ipykernel)",
   "language": "python",
   "name": "python3"
  },
  "language_info": {
   "codemirror_mode": {
    "name": "ipython",
    "version": 3
   },
   "file_extension": ".py",
   "mimetype": "text/x-python",
   "name": "python",
   "nbconvert_exporter": "python",
   "pygments_lexer": "ipython3",
   "version": "3.9.7"
  },
  "toc": {
   "base_numbering": 1,
   "nav_menu": {},
   "number_sections": true,
   "sideBar": true,
   "skip_h1_title": false,
   "title_cell": "Table of Contents",
   "title_sidebar": "Contents",
   "toc_cell": false,
   "toc_position": {},
   "toc_section_display": true,
   "toc_window_display": false
  }
 },
 "nbformat": 4,
 "nbformat_minor": 5
}
