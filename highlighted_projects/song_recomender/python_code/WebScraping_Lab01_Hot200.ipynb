{
 "cells": [
  {
   "cell_type": "markdown",
   "id": "273dc65e",
   "metadata": {},
   "source": [
    "# Webscraping | Lab01 | Billboard 200\n"
   ]
  },
  {
   "cell_type": "code",
   "execution_count": 2,
   "id": "0997bb3f",
   "metadata": {},
   "outputs": [],
   "source": [
    "#Import needed libraries - BeautifulSoup\n",
    "from bs4 import BeautifulSoup\n",
    "import pandas as pd\n",
    "import re\n",
    "import requests\n"
   ]
  },
  {
   "cell_type": "code",
   "execution_count": 3,
   "metadata": {},
   "outputs": [],
   "source": [
    "url = \"https://www.billboard.com/charts/billboard-200/\""
   ]
  },
  {
   "cell_type": "code",
   "execution_count": 4,
   "metadata": {},
   "outputs": [],
   "source": [
    "response = requests.get(url)"
   ]
  },
  {
   "cell_type": "code",
   "execution_count": 5,
   "metadata": {},
   "outputs": [],
   "source": [
    "soup = BeautifulSoup(response.content, \"html.parser\")"
   ]
  },
  {
   "cell_type": "code",
   "execution_count": 6,
   "id": "0f5c8333",
   "metadata": {},
   "outputs": [
    {
     "data": {
      "text/plain": [
       "200"
      ]
     },
     "execution_count": 6,
     "metadata": {},
     "output_type": "execute_result"
    }
   ],
   "source": [
    "#check response status code \n",
    "response.status_code"
   ]
  },
  {
   "cell_type": "code",
   "execution_count": 7,
   "id": "2497ab30",
   "metadata": {},
   "outputs": [],
   "source": [
    "#parse and store the contents of the url call\n",
    "soup=BeautifulSoup(response.content,'html.parser')"
   ]
  },
  {
   "cell_type": "code",
   "execution_count": 8,
   "id": "falling-helicopter",
   "metadata": {},
   "outputs": [],
   "source": [
    "#prettify the soup \n",
    "#print(soup.prettify())"
   ]
  },
  {
   "cell_type": "markdown",
   "id": "dd045694",
   "metadata": {},
   "source": [
    "## Query the soup for songname + artist"
   ]
  },
  {
   "cell_type": "code",
   "execution_count": 9,
   "id": "e943384d",
   "metadata": {},
   "outputs": [
    {
     "data": {
      "text/plain": [
       "'\\n30\\n'"
      ]
     },
     "execution_count": 9,
     "metadata": {},
     "output_type": "execute_result"
    }
   ],
   "source": [
    "#song\n",
    "soup.select('li #title-of-a-story')[0].text"
   ]
  },
  {
   "cell_type": "code",
   "execution_count": 10,
   "metadata": {},
   "outputs": [
    {
     "data": {
      "text/plain": [
       "'\\nAdele\\n'"
      ]
     },
     "execution_count": 10,
     "metadata": {},
     "output_type": "execute_result"
    }
   ],
   "source": [
    "#artist\n",
    "soup.select(\"li.o-chart-results-list__item.\\\\/\\\\/.lrv-u-flex-grow-1.lrv-u-flex.lrv-u-flex-direction-column.lrv-u-justify-content-center.lrv-u-border-b-1.u-border-b-0\\\\@mobile-max.lrv-u-border-color-grey-light.lrv-u-padding-l-1\\\\@mobile-max > span\")[0].text"
   ]
  },
  {
   "cell_type": "code",
   "execution_count": 11,
   "metadata": {},
   "outputs": [
    {
     "data": {
      "text/plain": [
       "'\\n1\\n'"
      ]
     },
     "execution_count": 11,
     "metadata": {},
     "output_type": "execute_result"
    }
   ],
   "source": [
    "#weeks on chart\n",
    "soup.select(\"li:nth-child(6) > span\")[0].text"
   ]
  },
  {
   "cell_type": "code",
   "execution_count": 12,
   "metadata": {},
   "outputs": [
    {
     "data": {
      "text/plain": [
       "'\\n1\\n'"
      ]
     },
     "execution_count": 12,
     "metadata": {},
     "output_type": "execute_result"
    }
   ],
   "source": [
    "#peak position\n",
    "soup.select(\"li:nth-child(5) > span\")[0].text"
   ]
  },
  {
   "cell_type": "code",
   "execution_count": 13,
   "metadata": {},
   "outputs": [
    {
     "data": {
      "text/plain": [
       "'\\n-\\n'"
      ]
     },
     "execution_count": 13,
     "metadata": {},
     "output_type": "execute_result"
    }
   ],
   "source": [
    "#last week\n",
    "soup.select(\"li:nth-child(4) > span\")[0].text"
   ]
  },
  {
   "cell_type": "code",
   "execution_count": 14,
   "metadata": {},
   "outputs": [],
   "source": [
    "# award\n",
    "#soup.select(\"g:nth-child(1) > path\")[0]."
   ]
  },
  {
   "cell_type": "code",
   "execution_count": 15,
   "id": "2aaba711",
   "metadata": {},
   "outputs": [
    {
     "data": {
      "text/plain": [
       "200"
      ]
     },
     "execution_count": 15,
     "metadata": {},
     "output_type": "execute_result"
    }
   ],
   "source": [
    "## install tqqm.notebook using conda install -c conda-forge tqdm\n",
    "song_name=[]\n",
    "artist=[]\n",
    "weeks_on_chart=[]\n",
    "peak_position=[]\n",
    "last_week=[]\n",
    "\n",
    "\n",
    "top200=len(soup.select('li #title-of-a-story'))\n",
    "top200"
   ]
  },
  {
   "cell_type": "code",
   "execution_count": 16,
   "id": "5743d9b5",
   "metadata": {},
   "outputs": [],
   "source": [
    "from tqdm.notebook import tqdm"
   ]
  },
  {
   "cell_type": "code",
   "execution_count": 17,
   "id": "af8accb4",
   "metadata": {},
   "outputs": [
    {
     "data": {
      "application/vnd.jupyter.widget-view+json": {
       "model_id": "570eb087233e482f98ba1016aa41447f",
       "version_major": 2,
       "version_minor": 0
      },
      "text/plain": [
       "  0%|          | 0/200 [00:00<?, ?it/s]"
      ]
     },
     "metadata": {},
     "output_type": "display_data"
    }
   ],
   "source": [
    "for i in tqdm(range(top200)):\n",
    "    song_name.append(soup.select('li h3')[i].text)\n",
    "    artist.append(soup.select(\"li.o-chart-results-list__item.\\\\/\\\\/.lrv-u-flex-grow-1.lrv-u-flex.lrv-u-flex-direction-column.lrv-u-justify-content-center.lrv-u-border-b-1.u-border-b-0\\\\@mobile-max.lrv-u-border-color-grey-light.lrv-u-padding-l-1\\\\@mobile-max > span\")[i].text)\n",
    "    weeks_on_chart.append(soup.select(\"li:nth-child(6) > span\")[i].text)\n",
    "    peak_position.append(soup.select(\"li:nth-child(5) > span\")[i].text)\n",
    "    last_week.append(soup.select(\"li:nth-child(4) > span\")[i].text)"
   ]
  },
  {
   "cell_type": "code",
   "execution_count": 18,
   "id": "9ad67912",
   "metadata": {},
   "outputs": [],
   "source": [
    "df=pd.DataFrame({'song_name':song_name,'artist':artist,'weeks_on_chart':weeks_on_chart,\n",
    "                 'peak_position':peak_position,'last_week':last_week})"
   ]
  },
  {
   "cell_type": "code",
   "execution_count": 20,
   "metadata": {},
   "outputs": [
    {
     "data": {
      "text/html": [
       "<div>\n",
       "<style scoped>\n",
       "    .dataframe tbody tr th:only-of-type {\n",
       "        vertical-align: middle;\n",
       "    }\n",
       "\n",
       "    .dataframe tbody tr th {\n",
       "        vertical-align: top;\n",
       "    }\n",
       "\n",
       "    .dataframe thead th {\n",
       "        text-align: right;\n",
       "    }\n",
       "</style>\n",
       "<table border=\"1\" class=\"dataframe\">\n",
       "  <thead>\n",
       "    <tr style=\"text-align: right;\">\n",
       "      <th></th>\n",
       "      <th>song_name</th>\n",
       "      <th>artist</th>\n",
       "      <th>weeks_on_chart</th>\n",
       "      <th>peak_position</th>\n",
       "      <th>last_week</th>\n",
       "    </tr>\n",
       "  </thead>\n",
       "  <tbody>\n",
       "    <tr>\n",
       "      <th>0</th>\n",
       "      <td>\\n30\\n</td>\n",
       "      <td>\\nAdele\\n</td>\n",
       "      <td>\\n1\\n</td>\n",
       "      <td>\\n1\\n</td>\n",
       "      <td>\\n-\\n</td>\n",
       "    </tr>\n",
       "    <tr>\n",
       "      <th>1</th>\n",
       "      <td>\\nRed (Taylor's Version)\\n</td>\n",
       "      <td>\\nTaylor Swift\\n</td>\n",
       "      <td>\\n2\\n</td>\n",
       "      <td>\\n1\\n</td>\n",
       "      <td>\\n1\\n</td>\n",
       "    </tr>\n",
       "    <tr>\n",
       "      <th>2</th>\n",
       "      <td>\\nCertified Lover Boy\\n</td>\n",
       "      <td>\\nDrake\\n</td>\n",
       "      <td>\\n12\\n</td>\n",
       "      <td>\\n1\\n</td>\n",
       "      <td>\\n1\\n</td>\n",
       "    </tr>\n",
       "    <tr>\n",
       "      <th>3</th>\n",
       "      <td>\\nAn Evening With Silk Sonic\\n</td>\n",
       "      <td>\\nSilk Sonic (Bruno Mars &amp; Anderson .Paak)\\n</td>\n",
       "      <td>\\n2\\n</td>\n",
       "      <td>\\n2\\n</td>\n",
       "      <td>\\n1\\n</td>\n",
       "    </tr>\n",
       "    <tr>\n",
       "      <th>4</th>\n",
       "      <td>\\nDangerous: The Double Album\\n</td>\n",
       "      <td>\\nMorgan Wallen\\n</td>\n",
       "      <td>\\n46\\n</td>\n",
       "      <td>\\n1\\n</td>\n",
       "      <td>\\n5\\n</td>\n",
       "    </tr>\n",
       "    <tr>\n",
       "      <th>...</th>\n",
       "      <td>...</td>\n",
       "      <td>...</td>\n",
       "      <td>...</td>\n",
       "      <td>...</td>\n",
       "      <td>...</td>\n",
       "    </tr>\n",
       "    <tr>\n",
       "      <th>195</th>\n",
       "      <td>\\nJose\\n</td>\n",
       "      <td>\\nJ Balvin\\n</td>\n",
       "      <td>\\n10\\n</td>\n",
       "      <td>\\n178\\n</td>\n",
       "      <td>\\n1\\n</td>\n",
       "    </tr>\n",
       "    <tr>\n",
       "      <th>196</th>\n",
       "      <td>\\nBlonde\\n</td>\n",
       "      <td>\\nFrank Ocean\\n</td>\n",
       "      <td>\\n255\\n</td>\n",
       "      <td>\\n2\\n</td>\n",
       "      <td>\\n100\\n</td>\n",
       "    </tr>\n",
       "    <tr>\n",
       "      <th>197</th>\n",
       "      <td>\\nReady To Die\\n</td>\n",
       "      <td>\\nThe Notorious B.I.G.\\n</td>\n",
       "      <td>\\n64\\n</td>\n",
       "      <td>\\n86\\n</td>\n",
       "      <td>\\n2\\n</td>\n",
       "    </tr>\n",
       "    <tr>\n",
       "      <th>198</th>\n",
       "      <td>\\nSounds Of Summer: The Very Best Of The Beach...</td>\n",
       "      <td>\\nThe Beach Boys\\n</td>\n",
       "      <td>\\n274\\n</td>\n",
       "      <td>\\n2\\n</td>\n",
       "      <td>\\n116\\n</td>\n",
       "    </tr>\n",
       "    <tr>\n",
       "      <th>199</th>\n",
       "      <td>\\n17\\n</td>\n",
       "      <td>\\nXXXTENTACION\\n</td>\n",
       "      <td>\\n209\\n</td>\n",
       "      <td>\\n437\\n</td>\n",
       "      <td>\\n2\\n</td>\n",
       "    </tr>\n",
       "  </tbody>\n",
       "</table>\n",
       "<p>200 rows × 5 columns</p>\n",
       "</div>"
      ],
      "text/plain": [
       "                                             song_name  \\\n",
       "0                                               \\n30\\n   \n",
       "1                           \\nRed (Taylor's Version)\\n   \n",
       "2                              \\nCertified Lover Boy\\n   \n",
       "3                       \\nAn Evening With Silk Sonic\\n   \n",
       "4                      \\nDangerous: The Double Album\\n   \n",
       "..                                                 ...   \n",
       "195                                           \\nJose\\n   \n",
       "196                                         \\nBlonde\\n   \n",
       "197                                   \\nReady To Die\\n   \n",
       "198  \\nSounds Of Summer: The Very Best Of The Beach...   \n",
       "199                                             \\n17\\n   \n",
       "\n",
       "                                           artist weeks_on_chart  \\\n",
       "0                                       \\nAdele\\n          \\n1\\n   \n",
       "1                                \\nTaylor Swift\\n          \\n2\\n   \n",
       "2                                       \\nDrake\\n         \\n12\\n   \n",
       "3    \\nSilk Sonic (Bruno Mars & Anderson .Paak)\\n          \\n2\\n   \n",
       "4                               \\nMorgan Wallen\\n         \\n46\\n   \n",
       "..                                            ...            ...   \n",
       "195                                  \\nJ Balvin\\n         \\n10\\n   \n",
       "196                               \\nFrank Ocean\\n        \\n255\\n   \n",
       "197                      \\nThe Notorious B.I.G.\\n         \\n64\\n   \n",
       "198                            \\nThe Beach Boys\\n        \\n274\\n   \n",
       "199                              \\nXXXTENTACION\\n        \\n209\\n   \n",
       "\n",
       "    peak_position last_week  \n",
       "0           \\n1\\n     \\n-\\n  \n",
       "1           \\n1\\n     \\n1\\n  \n",
       "2           \\n1\\n     \\n1\\n  \n",
       "3           \\n2\\n     \\n1\\n  \n",
       "4           \\n1\\n     \\n5\\n  \n",
       "..            ...       ...  \n",
       "195       \\n178\\n     \\n1\\n  \n",
       "196         \\n2\\n   \\n100\\n  \n",
       "197        \\n86\\n     \\n2\\n  \n",
       "198         \\n2\\n   \\n116\\n  \n",
       "199       \\n437\\n     \\n2\\n  \n",
       "\n",
       "[200 rows x 5 columns]"
      ]
     },
     "execution_count": 20,
     "metadata": {},
     "output_type": "execute_result"
    }
   ],
   "source": [
    "df"
   ]
  },
  {
   "cell_type": "code",
   "execution_count": 21,
   "metadata": {},
   "outputs": [],
   "source": [
    "df = df.replace(r'\\n',  '', regex=True)"
   ]
  },
  {
   "cell_type": "code",
   "execution_count": 22,
   "metadata": {},
   "outputs": [],
   "source": [
    "df = df.apply(lambda x: x.astype(str).str.lower())"
   ]
  },
  {
   "cell_type": "code",
   "execution_count": 23,
   "metadata": {},
   "outputs": [
    {
     "data": {
      "text/html": [
       "<div>\n",
       "<style scoped>\n",
       "    .dataframe tbody tr th:only-of-type {\n",
       "        vertical-align: middle;\n",
       "    }\n",
       "\n",
       "    .dataframe tbody tr th {\n",
       "        vertical-align: top;\n",
       "    }\n",
       "\n",
       "    .dataframe thead th {\n",
       "        text-align: right;\n",
       "    }\n",
       "</style>\n",
       "<table border=\"1\" class=\"dataframe\">\n",
       "  <thead>\n",
       "    <tr style=\"text-align: right;\">\n",
       "      <th></th>\n",
       "      <th>song_name</th>\n",
       "      <th>artist</th>\n",
       "      <th>weeks_on_chart</th>\n",
       "      <th>peak_position</th>\n",
       "      <th>last_week</th>\n",
       "    </tr>\n",
       "  </thead>\n",
       "  <tbody>\n",
       "    <tr>\n",
       "      <th>0</th>\n",
       "      <td>30</td>\n",
       "      <td>adele</td>\n",
       "      <td>1</td>\n",
       "      <td>1</td>\n",
       "      <td>-</td>\n",
       "    </tr>\n",
       "    <tr>\n",
       "      <th>1</th>\n",
       "      <td>red (taylor's version)</td>\n",
       "      <td>taylor swift</td>\n",
       "      <td>2</td>\n",
       "      <td>1</td>\n",
       "      <td>1</td>\n",
       "    </tr>\n",
       "    <tr>\n",
       "      <th>2</th>\n",
       "      <td>certified lover boy</td>\n",
       "      <td>drake</td>\n",
       "      <td>12</td>\n",
       "      <td>1</td>\n",
       "      <td>1</td>\n",
       "    </tr>\n",
       "    <tr>\n",
       "      <th>3</th>\n",
       "      <td>an evening with silk sonic</td>\n",
       "      <td>silk sonic (bruno mars &amp; anderson .paak)</td>\n",
       "      <td>2</td>\n",
       "      <td>2</td>\n",
       "      <td>1</td>\n",
       "    </tr>\n",
       "    <tr>\n",
       "      <th>4</th>\n",
       "      <td>dangerous: the double album</td>\n",
       "      <td>morgan wallen</td>\n",
       "      <td>46</td>\n",
       "      <td>1</td>\n",
       "      <td>5</td>\n",
       "    </tr>\n",
       "    <tr>\n",
       "      <th>...</th>\n",
       "      <td>...</td>\n",
       "      <td>...</td>\n",
       "      <td>...</td>\n",
       "      <td>...</td>\n",
       "      <td>...</td>\n",
       "    </tr>\n",
       "    <tr>\n",
       "      <th>195</th>\n",
       "      <td>jose</td>\n",
       "      <td>j balvin</td>\n",
       "      <td>10</td>\n",
       "      <td>178</td>\n",
       "      <td>1</td>\n",
       "    </tr>\n",
       "    <tr>\n",
       "      <th>196</th>\n",
       "      <td>blonde</td>\n",
       "      <td>frank ocean</td>\n",
       "      <td>255</td>\n",
       "      <td>2</td>\n",
       "      <td>100</td>\n",
       "    </tr>\n",
       "    <tr>\n",
       "      <th>197</th>\n",
       "      <td>ready to die</td>\n",
       "      <td>the notorious b.i.g.</td>\n",
       "      <td>64</td>\n",
       "      <td>86</td>\n",
       "      <td>2</td>\n",
       "    </tr>\n",
       "    <tr>\n",
       "      <th>198</th>\n",
       "      <td>sounds of summer: the very best of the beach boys</td>\n",
       "      <td>the beach boys</td>\n",
       "      <td>274</td>\n",
       "      <td>2</td>\n",
       "      <td>116</td>\n",
       "    </tr>\n",
       "    <tr>\n",
       "      <th>199</th>\n",
       "      <td>17</td>\n",
       "      <td>xxxtentacion</td>\n",
       "      <td>209</td>\n",
       "      <td>437</td>\n",
       "      <td>2</td>\n",
       "    </tr>\n",
       "  </tbody>\n",
       "</table>\n",
       "<p>200 rows × 5 columns</p>\n",
       "</div>"
      ],
      "text/plain": [
       "                                             song_name  \\\n",
       "0                                                   30   \n",
       "1                               red (taylor's version)   \n",
       "2                                  certified lover boy   \n",
       "3                           an evening with silk sonic   \n",
       "4                          dangerous: the double album   \n",
       "..                                                 ...   \n",
       "195                                               jose   \n",
       "196                                             blonde   \n",
       "197                                       ready to die   \n",
       "198  sounds of summer: the very best of the beach boys   \n",
       "199                                                 17   \n",
       "\n",
       "                                       artist weeks_on_chart peak_position  \\\n",
       "0                                       adele              1             1   \n",
       "1                                taylor swift              2             1   \n",
       "2                                       drake             12             1   \n",
       "3    silk sonic (bruno mars & anderson .paak)              2             2   \n",
       "4                               morgan wallen             46             1   \n",
       "..                                        ...            ...           ...   \n",
       "195                                  j balvin             10           178   \n",
       "196                               frank ocean            255             2   \n",
       "197                      the notorious b.i.g.             64            86   \n",
       "198                            the beach boys            274             2   \n",
       "199                              xxxtentacion            209           437   \n",
       "\n",
       "    last_week  \n",
       "0           -  \n",
       "1           1  \n",
       "2           1  \n",
       "3           1  \n",
       "4           5  \n",
       "..        ...  \n",
       "195         1  \n",
       "196       100  \n",
       "197         2  \n",
       "198       116  \n",
       "199         2  \n",
       "\n",
       "[200 rows x 5 columns]"
      ]
     },
     "execution_count": 23,
     "metadata": {},
     "output_type": "execute_result"
    }
   ],
   "source": [
    "df"
   ]
  },
  {
   "cell_type": "code",
   "execution_count": 24,
   "metadata": {},
   "outputs": [],
   "source": [
    "#df.to_csv(\"/Users/AFROARC/Documents/GitHub/IronHackLabs/Week7/webscraping/top_hot_200.csv\", index=False)"
   ]
  }
 ],
 "metadata": {
  "hide_input": false,
  "kernelspec": {
   "display_name": "Python 3 (ipykernel)",
   "language": "python",
   "name": "python3"
  },
  "language_info": {
   "codemirror_mode": {
    "name": "ipython",
    "version": 3
   },
   "file_extension": ".py",
   "mimetype": "text/x-python",
   "name": "python",
   "nbconvert_exporter": "python",
   "pygments_lexer": "ipython3",
   "version": "3.9.7"
  },
  "toc": {
   "base_numbering": 1,
   "nav_menu": {},
   "number_sections": true,
   "sideBar": true,
   "skip_h1_title": true,
   "title_cell": "Table of Contents",
   "title_sidebar": "Contents",
   "toc_cell": false,
   "toc_position": {
    "height": "calc(100% - 180px)",
    "left": "10px",
    "top": "150px",
    "width": "238.466px"
   },
   "toc_section_display": true,
   "toc_window_display": true
  },
  "varInspector": {
   "cols": {
    "lenName": 16,
    "lenType": 16,
    "lenVar": 40
   },
   "kernels_config": {
    "python": {
     "delete_cmd_postfix": "",
     "delete_cmd_prefix": "del ",
     "library": "var_list.py",
     "varRefreshCmd": "print(var_dic_list())"
    },
    "r": {
     "delete_cmd_postfix": ") ",
     "delete_cmd_prefix": "rm(",
     "library": "var_list.r",
     "varRefreshCmd": "cat(var_dic_list()) "
    }
   },
   "types_to_exclude": [
    "module",
    "function",
    "builtin_function_or_method",
    "instance",
    "_Feature"
   ],
   "window_display": false
  }
 },
 "nbformat": 4,
 "nbformat_minor": 5
}
